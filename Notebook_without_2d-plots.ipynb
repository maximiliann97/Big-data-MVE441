{
 "cells": [
  {
   "cell_type": "code",
   "execution_count": 81,
   "id": "1d5cc3f5",
   "metadata": {},
   "outputs": [],
   "source": [
    "import numpy as np\n",
    "import pandas as pd"
   ]
  },
  {
   "cell_type": "code",
   "execution_count": 82,
   "id": "8902c703",
   "metadata": {},
   "outputs": [
    {
     "name": "stdout",
     "output_type": "stream",
     "text": [
      "<class 'pandas.core.frame.DataFrame'>\n",
      "RangeIndex: 145460 entries, 0 to 145459\n",
      "Data columns (total 23 columns):\n",
      " #   Column         Non-Null Count   Dtype  \n",
      "---  ------         --------------   -----  \n",
      " 0   Date           145460 non-null  object \n",
      " 1   Location       145460 non-null  object \n",
      " 2   MinTemp        143975 non-null  float64\n",
      " 3   MaxTemp        144199 non-null  float64\n",
      " 4   Rainfall       142199 non-null  float64\n",
      " 5   Evaporation    82670 non-null   float64\n",
      " 6   Sunshine       75625 non-null   float64\n",
      " 7   WindGustDir    135134 non-null  object \n",
      " 8   WindGustSpeed  135197 non-null  float64\n",
      " 9   WindDir9am     134894 non-null  object \n",
      " 10  WindDir3pm     141232 non-null  object \n",
      " 11  WindSpeed9am   143693 non-null  float64\n",
      " 12  WindSpeed3pm   142398 non-null  float64\n",
      " 13  Humidity9am    142806 non-null  float64\n",
      " 14  Humidity3pm    140953 non-null  float64\n",
      " 15  Pressure9am    130395 non-null  float64\n",
      " 16  Pressure3pm    130432 non-null  float64\n",
      " 17  Cloud9am       89572 non-null   float64\n",
      " 18  Cloud3pm       86102 non-null   float64\n",
      " 19  Temp9am        143693 non-null  float64\n",
      " 20  Temp3pm        141851 non-null  float64\n",
      " 21  RainToday      142199 non-null  object \n",
      " 22  RainTomorrow   142193 non-null  object \n",
      "dtypes: float64(16), object(7)\n",
      "memory usage: 25.5+ MB\n"
     ]
    },
    {
     "data": {
      "text/plain": [
       "(145460, 23)"
      ]
     },
     "execution_count": 82,
     "metadata": {},
     "output_type": "execute_result"
    }
   ],
   "source": [
    "# Get The data\n",
    "raw_data = pd.read_csv(('weatherAUS.csv'))\n",
    "raw_data.info()\n",
    "raw_data.shape"
   ]
  },
  {
   "cell_type": "code",
   "execution_count": 83,
   "id": "25277581",
   "metadata": {},
   "outputs": [
    {
     "data": {
      "text/plain": [
       "Date                 0\n",
       "Location             0\n",
       "MinTemp           1485\n",
       "MaxTemp           1261\n",
       "Rainfall          3261\n",
       "Evaporation      62790\n",
       "Sunshine         69835\n",
       "WindGustDir      10326\n",
       "WindGustSpeed    10263\n",
       "WindDir9am       10566\n",
       "WindDir3pm        4228\n",
       "WindSpeed9am      1767\n",
       "WindSpeed3pm      3062\n",
       "Humidity9am       2654\n",
       "Humidity3pm       4507\n",
       "Pressure9am      15065\n",
       "Pressure3pm      15028\n",
       "Cloud9am         55888\n",
       "Cloud3pm         59358\n",
       "Temp9am           1767\n",
       "Temp3pm           3609\n",
       "RainToday         3261\n",
       "RainTomorrow      3267\n",
       "dtype: int64"
      ]
     },
     "execution_count": 83,
     "metadata": {},
     "output_type": "execute_result"
    }
   ],
   "source": [
    "# Checking all the null vals\n",
    "raw_data.isnull().sum()"
   ]
  },
  {
   "cell_type": "code",
   "execution_count": 84,
   "id": "1c523f19",
   "metadata": {},
   "outputs": [],
   "source": [
    "# filling all the null values from the numerical data with their respective mean value\n",
    "# This method is taken from a kaggle code, but we have some different names, but \n",
    "# I think i'ts okey to use the same method.\n",
    "\n",
    "raw_data['MinTemp']=raw_data['MinTemp'].fillna(raw_data['MinTemp'].mean())\n",
    "raw_data['MaxTemp']=raw_data['MaxTemp'].fillna(raw_data['MaxTemp'].mean())\n",
    "raw_data['Rainfall']=raw_data['Rainfall'].fillna(raw_data['Rainfall'].mean())\n",
    "raw_data['Evaporation']=raw_data['Evaporation'].fillna(raw_data['Evaporation'].mean())\n",
    "raw_data['Sunshine']=raw_data['Sunshine'].fillna(raw_data['Sunshine'].mean())\n",
    "raw_data['WindGustSpeed']=raw_data['WindGustSpeed'].fillna(raw_data['WindGustSpeed'].mean())\n",
    "raw_data['WindSpeed9am']=raw_data['WindSpeed9am'].fillna(raw_data['WindSpeed9am'].mean())\n",
    "raw_data['WindSpeed3pm']=raw_data['WindSpeed3pm'].fillna(raw_data['WindSpeed3pm'].mean())\n",
    "raw_data['Humidity9am']=raw_data['Humidity9am'].fillna(raw_data['Humidity9am'].mean())\n",
    "raw_data['Humidity3pm']=raw_data['Humidity3pm'].fillna(raw_data['Humidity3pm'].mean())\n",
    "raw_data['Pressure9am']=raw_data['Pressure9am'].fillna(raw_data['Pressure9am'].mean())\n",
    "raw_data['Pressure3pm']=raw_data['Pressure3pm'].fillna(raw_data['Pressure3pm'].mean())\n",
    "raw_data['Cloud9am']=raw_data['Cloud9am'].fillna(raw_data['Cloud9am'].mean())\n",
    "raw_data['Cloud3pm']=raw_data['Cloud3pm'].fillna(raw_data['Cloud3pm'].mean())\n",
    "raw_data['Temp9am']=raw_data['Temp9am'].fillna(raw_data['Temp9am'].mean())\n",
    "raw_data['Temp3pm']=raw_data['Temp3pm'].fillna(raw_data['Temp3pm'].mean())    "
   ]
  },
  {
   "cell_type": "code",
   "execution_count": 85,
   "id": "cbad738f",
   "metadata": {},
   "outputs": [],
   "source": [
    "# Filling all the null values from the categorical data with their most frequently occurring value\n",
    "raw_data['WindGustDir']=raw_data['WindGustDir'].fillna(raw_data['WindGustDir'].mode()[0])\n",
    "raw_data['WindDir9am']=raw_data['WindDir9am'].fillna(raw_data['WindDir9am'].mode()[0])\n",
    "raw_data['WindDir3pm']=raw_data['WindDir3pm'].fillna(raw_data['WindDir3pm'].mode()[0])\n",
    "raw_data['RainToday']=raw_data['RainToday'].fillna(raw_data['RainToday'].mode()[0])\n",
    "raw_data['RainTomorrow']=raw_data['RainTomorrow'].fillna(raw_data['RainTomorrow'].mode()[0])"
   ]
  },
  {
   "cell_type": "code",
   "execution_count": 86,
   "id": "1aa8c7d0",
   "metadata": {},
   "outputs": [
    {
     "data": {
      "text/html": [
       "<div>\n",
       "<style scoped>\n",
       "    .dataframe tbody tr th:only-of-type {\n",
       "        vertical-align: middle;\n",
       "    }\n",
       "\n",
       "    .dataframe tbody tr th {\n",
       "        vertical-align: top;\n",
       "    }\n",
       "\n",
       "    .dataframe thead th {\n",
       "        text-align: right;\n",
       "    }\n",
       "</style>\n",
       "<table border=\"1\" class=\"dataframe\">\n",
       "  <thead>\n",
       "    <tr style=\"text-align: right;\">\n",
       "      <th></th>\n",
       "      <th>Date</th>\n",
       "      <th>Location</th>\n",
       "      <th>MinTemp</th>\n",
       "      <th>MaxTemp</th>\n",
       "      <th>Rainfall</th>\n",
       "      <th>Evaporation</th>\n",
       "      <th>Sunshine</th>\n",
       "      <th>WindGustDir</th>\n",
       "      <th>WindGustSpeed</th>\n",
       "      <th>WindDir9am</th>\n",
       "      <th>...</th>\n",
       "      <th>Humidity9am</th>\n",
       "      <th>Humidity3pm</th>\n",
       "      <th>Pressure9am</th>\n",
       "      <th>Pressure3pm</th>\n",
       "      <th>Cloud9am</th>\n",
       "      <th>Cloud3pm</th>\n",
       "      <th>Temp9am</th>\n",
       "      <th>Temp3pm</th>\n",
       "      <th>RainToday</th>\n",
       "      <th>RainTomorrow</th>\n",
       "    </tr>\n",
       "  </thead>\n",
       "  <tbody>\n",
       "    <tr>\n",
       "      <th>0</th>\n",
       "      <td>2008-12-01</td>\n",
       "      <td>Albury</td>\n",
       "      <td>13.4</td>\n",
       "      <td>22.9</td>\n",
       "      <td>0.6</td>\n",
       "      <td>5.468232</td>\n",
       "      <td>7.611178</td>\n",
       "      <td>W</td>\n",
       "      <td>44.0</td>\n",
       "      <td>W</td>\n",
       "      <td>...</td>\n",
       "      <td>71.0</td>\n",
       "      <td>22.0</td>\n",
       "      <td>1007.7</td>\n",
       "      <td>1007.1</td>\n",
       "      <td>8.000000</td>\n",
       "      <td>4.50993</td>\n",
       "      <td>16.9</td>\n",
       "      <td>21.8</td>\n",
       "      <td>No</td>\n",
       "      <td>No</td>\n",
       "    </tr>\n",
       "    <tr>\n",
       "      <th>1</th>\n",
       "      <td>2008-12-02</td>\n",
       "      <td>Albury</td>\n",
       "      <td>7.4</td>\n",
       "      <td>25.1</td>\n",
       "      <td>0.0</td>\n",
       "      <td>5.468232</td>\n",
       "      <td>7.611178</td>\n",
       "      <td>WNW</td>\n",
       "      <td>44.0</td>\n",
       "      <td>NNW</td>\n",
       "      <td>...</td>\n",
       "      <td>44.0</td>\n",
       "      <td>25.0</td>\n",
       "      <td>1010.6</td>\n",
       "      <td>1007.8</td>\n",
       "      <td>4.447461</td>\n",
       "      <td>4.50993</td>\n",
       "      <td>17.2</td>\n",
       "      <td>24.3</td>\n",
       "      <td>No</td>\n",
       "      <td>No</td>\n",
       "    </tr>\n",
       "    <tr>\n",
       "      <th>2</th>\n",
       "      <td>2008-12-03</td>\n",
       "      <td>Albury</td>\n",
       "      <td>12.9</td>\n",
       "      <td>25.7</td>\n",
       "      <td>0.0</td>\n",
       "      <td>5.468232</td>\n",
       "      <td>7.611178</td>\n",
       "      <td>WSW</td>\n",
       "      <td>46.0</td>\n",
       "      <td>W</td>\n",
       "      <td>...</td>\n",
       "      <td>38.0</td>\n",
       "      <td>30.0</td>\n",
       "      <td>1007.6</td>\n",
       "      <td>1008.7</td>\n",
       "      <td>4.447461</td>\n",
       "      <td>2.00000</td>\n",
       "      <td>21.0</td>\n",
       "      <td>23.2</td>\n",
       "      <td>No</td>\n",
       "      <td>No</td>\n",
       "    </tr>\n",
       "    <tr>\n",
       "      <th>3</th>\n",
       "      <td>2008-12-04</td>\n",
       "      <td>Albury</td>\n",
       "      <td>9.2</td>\n",
       "      <td>28.0</td>\n",
       "      <td>0.0</td>\n",
       "      <td>5.468232</td>\n",
       "      <td>7.611178</td>\n",
       "      <td>NE</td>\n",
       "      <td>24.0</td>\n",
       "      <td>SE</td>\n",
       "      <td>...</td>\n",
       "      <td>45.0</td>\n",
       "      <td>16.0</td>\n",
       "      <td>1017.6</td>\n",
       "      <td>1012.8</td>\n",
       "      <td>4.447461</td>\n",
       "      <td>4.50993</td>\n",
       "      <td>18.1</td>\n",
       "      <td>26.5</td>\n",
       "      <td>No</td>\n",
       "      <td>No</td>\n",
       "    </tr>\n",
       "    <tr>\n",
       "      <th>4</th>\n",
       "      <td>2008-12-05</td>\n",
       "      <td>Albury</td>\n",
       "      <td>17.5</td>\n",
       "      <td>32.3</td>\n",
       "      <td>1.0</td>\n",
       "      <td>5.468232</td>\n",
       "      <td>7.611178</td>\n",
       "      <td>W</td>\n",
       "      <td>41.0</td>\n",
       "      <td>ENE</td>\n",
       "      <td>...</td>\n",
       "      <td>82.0</td>\n",
       "      <td>33.0</td>\n",
       "      <td>1010.8</td>\n",
       "      <td>1006.0</td>\n",
       "      <td>7.000000</td>\n",
       "      <td>8.00000</td>\n",
       "      <td>17.8</td>\n",
       "      <td>29.7</td>\n",
       "      <td>No</td>\n",
       "      <td>No</td>\n",
       "    </tr>\n",
       "  </tbody>\n",
       "</table>\n",
       "<p>5 rows × 23 columns</p>\n",
       "</div>"
      ],
      "text/plain": [
       "         Date Location  MinTemp  MaxTemp  Rainfall  Evaporation  Sunshine   \n",
       "0  2008-12-01   Albury     13.4     22.9       0.6     5.468232  7.611178  \\\n",
       "1  2008-12-02   Albury      7.4     25.1       0.0     5.468232  7.611178   \n",
       "2  2008-12-03   Albury     12.9     25.7       0.0     5.468232  7.611178   \n",
       "3  2008-12-04   Albury      9.2     28.0       0.0     5.468232  7.611178   \n",
       "4  2008-12-05   Albury     17.5     32.3       1.0     5.468232  7.611178   \n",
       "\n",
       "  WindGustDir  WindGustSpeed WindDir9am  ... Humidity9am  Humidity3pm   \n",
       "0           W           44.0          W  ...        71.0         22.0  \\\n",
       "1         WNW           44.0        NNW  ...        44.0         25.0   \n",
       "2         WSW           46.0          W  ...        38.0         30.0   \n",
       "3          NE           24.0         SE  ...        45.0         16.0   \n",
       "4           W           41.0        ENE  ...        82.0         33.0   \n",
       "\n",
       "   Pressure9am  Pressure3pm  Cloud9am  Cloud3pm  Temp9am  Temp3pm  RainToday   \n",
       "0       1007.7       1007.1  8.000000   4.50993     16.9     21.8         No  \\\n",
       "1       1010.6       1007.8  4.447461   4.50993     17.2     24.3         No   \n",
       "2       1007.6       1008.7  4.447461   2.00000     21.0     23.2         No   \n",
       "3       1017.6       1012.8  4.447461   4.50993     18.1     26.5         No   \n",
       "4       1010.8       1006.0  7.000000   8.00000     17.8     29.7         No   \n",
       "\n",
       "   RainTomorrow  \n",
       "0            No  \n",
       "1            No  \n",
       "2            No  \n",
       "3            No  \n",
       "4            No  \n",
       "\n",
       "[5 rows x 23 columns]"
      ]
     },
     "execution_count": 86,
     "metadata": {},
     "output_type": "execute_result"
    }
   ],
   "source": [
    "raw_data.head(5)"
   ]
  },
  {
   "cell_type": "code",
   "execution_count": 87,
   "id": "094be73a",
   "metadata": {},
   "outputs": [],
   "source": [
    "# making categorical yes and no to 1 and 0 respectivevly\n",
    "raw_data['RainTomorrow']=raw_data['RainTomorrow'].map({'Yes':1,'No':0})\n",
    "raw_data['RainToday']=raw_data['RainToday'].map({'Yes':1,'No':0})"
   ]
  },
  {
   "cell_type": "code",
   "execution_count": 88,
   "id": "67d3c672",
   "metadata": {},
   "outputs": [],
   "source": [
    "# from date convert to day, month\n",
    "raw_data['Date']=pd.to_datetime(raw_data['Date'])\n",
    "raw_data['day']=raw_data['Date'].dt.day\n",
    "raw_data['month']=raw_data['Date'].dt.month\n",
    "#drop date\n",
    "raw_data.drop('Date',axis=1,inplace=True)"
   ]
  },
  {
   "cell_type": "code",
   "execution_count": 89,
   "id": "14d039fb",
   "metadata": {},
   "outputs": [
    {
     "data": {
      "text/html": [
       "<div>\n",
       "<style scoped>\n",
       "    .dataframe tbody tr th:only-of-type {\n",
       "        vertical-align: middle;\n",
       "    }\n",
       "\n",
       "    .dataframe tbody tr th {\n",
       "        vertical-align: top;\n",
       "    }\n",
       "\n",
       "    .dataframe thead th {\n",
       "        text-align: right;\n",
       "    }\n",
       "</style>\n",
       "<table border=\"1\" class=\"dataframe\">\n",
       "  <thead>\n",
       "    <tr style=\"text-align: right;\">\n",
       "      <th></th>\n",
       "      <th>Location</th>\n",
       "      <th>MinTemp</th>\n",
       "      <th>MaxTemp</th>\n",
       "      <th>Rainfall</th>\n",
       "      <th>Evaporation</th>\n",
       "      <th>Sunshine</th>\n",
       "      <th>WindGustDir</th>\n",
       "      <th>WindGustSpeed</th>\n",
       "      <th>WindDir9am</th>\n",
       "      <th>WindDir3pm</th>\n",
       "      <th>...</th>\n",
       "      <th>Pressure9am</th>\n",
       "      <th>Pressure3pm</th>\n",
       "      <th>Cloud9am</th>\n",
       "      <th>Cloud3pm</th>\n",
       "      <th>Temp9am</th>\n",
       "      <th>Temp3pm</th>\n",
       "      <th>RainToday</th>\n",
       "      <th>RainTomorrow</th>\n",
       "      <th>day</th>\n",
       "      <th>month</th>\n",
       "    </tr>\n",
       "  </thead>\n",
       "  <tbody>\n",
       "    <tr>\n",
       "      <th>0</th>\n",
       "      <td>Albury</td>\n",
       "      <td>13.4</td>\n",
       "      <td>22.9</td>\n",
       "      <td>0.6</td>\n",
       "      <td>5.468232</td>\n",
       "      <td>7.611178</td>\n",
       "      <td>W</td>\n",
       "      <td>44.0</td>\n",
       "      <td>W</td>\n",
       "      <td>WNW</td>\n",
       "      <td>...</td>\n",
       "      <td>1007.7</td>\n",
       "      <td>1007.1</td>\n",
       "      <td>8.000000</td>\n",
       "      <td>4.50993</td>\n",
       "      <td>16.9</td>\n",
       "      <td>21.8</td>\n",
       "      <td>0</td>\n",
       "      <td>0</td>\n",
       "      <td>1</td>\n",
       "      <td>12</td>\n",
       "    </tr>\n",
       "    <tr>\n",
       "      <th>1</th>\n",
       "      <td>Albury</td>\n",
       "      <td>7.4</td>\n",
       "      <td>25.1</td>\n",
       "      <td>0.0</td>\n",
       "      <td>5.468232</td>\n",
       "      <td>7.611178</td>\n",
       "      <td>WNW</td>\n",
       "      <td>44.0</td>\n",
       "      <td>NNW</td>\n",
       "      <td>WSW</td>\n",
       "      <td>...</td>\n",
       "      <td>1010.6</td>\n",
       "      <td>1007.8</td>\n",
       "      <td>4.447461</td>\n",
       "      <td>4.50993</td>\n",
       "      <td>17.2</td>\n",
       "      <td>24.3</td>\n",
       "      <td>0</td>\n",
       "      <td>0</td>\n",
       "      <td>2</td>\n",
       "      <td>12</td>\n",
       "    </tr>\n",
       "    <tr>\n",
       "      <th>2</th>\n",
       "      <td>Albury</td>\n",
       "      <td>12.9</td>\n",
       "      <td>25.7</td>\n",
       "      <td>0.0</td>\n",
       "      <td>5.468232</td>\n",
       "      <td>7.611178</td>\n",
       "      <td>WSW</td>\n",
       "      <td>46.0</td>\n",
       "      <td>W</td>\n",
       "      <td>WSW</td>\n",
       "      <td>...</td>\n",
       "      <td>1007.6</td>\n",
       "      <td>1008.7</td>\n",
       "      <td>4.447461</td>\n",
       "      <td>2.00000</td>\n",
       "      <td>21.0</td>\n",
       "      <td>23.2</td>\n",
       "      <td>0</td>\n",
       "      <td>0</td>\n",
       "      <td>3</td>\n",
       "      <td>12</td>\n",
       "    </tr>\n",
       "    <tr>\n",
       "      <th>3</th>\n",
       "      <td>Albury</td>\n",
       "      <td>9.2</td>\n",
       "      <td>28.0</td>\n",
       "      <td>0.0</td>\n",
       "      <td>5.468232</td>\n",
       "      <td>7.611178</td>\n",
       "      <td>NE</td>\n",
       "      <td>24.0</td>\n",
       "      <td>SE</td>\n",
       "      <td>E</td>\n",
       "      <td>...</td>\n",
       "      <td>1017.6</td>\n",
       "      <td>1012.8</td>\n",
       "      <td>4.447461</td>\n",
       "      <td>4.50993</td>\n",
       "      <td>18.1</td>\n",
       "      <td>26.5</td>\n",
       "      <td>0</td>\n",
       "      <td>0</td>\n",
       "      <td>4</td>\n",
       "      <td>12</td>\n",
       "    </tr>\n",
       "    <tr>\n",
       "      <th>4</th>\n",
       "      <td>Albury</td>\n",
       "      <td>17.5</td>\n",
       "      <td>32.3</td>\n",
       "      <td>1.0</td>\n",
       "      <td>5.468232</td>\n",
       "      <td>7.611178</td>\n",
       "      <td>W</td>\n",
       "      <td>41.0</td>\n",
       "      <td>ENE</td>\n",
       "      <td>NW</td>\n",
       "      <td>...</td>\n",
       "      <td>1010.8</td>\n",
       "      <td>1006.0</td>\n",
       "      <td>7.000000</td>\n",
       "      <td>8.00000</td>\n",
       "      <td>17.8</td>\n",
       "      <td>29.7</td>\n",
       "      <td>0</td>\n",
       "      <td>0</td>\n",
       "      <td>5</td>\n",
       "      <td>12</td>\n",
       "    </tr>\n",
       "  </tbody>\n",
       "</table>\n",
       "<p>5 rows × 24 columns</p>\n",
       "</div>"
      ],
      "text/plain": [
       "  Location  MinTemp  MaxTemp  Rainfall  Evaporation  Sunshine WindGustDir   \n",
       "0   Albury     13.4     22.9       0.6     5.468232  7.611178           W  \\\n",
       "1   Albury      7.4     25.1       0.0     5.468232  7.611178         WNW   \n",
       "2   Albury     12.9     25.7       0.0     5.468232  7.611178         WSW   \n",
       "3   Albury      9.2     28.0       0.0     5.468232  7.611178          NE   \n",
       "4   Albury     17.5     32.3       1.0     5.468232  7.611178           W   \n",
       "\n",
       "   WindGustSpeed WindDir9am WindDir3pm  ...  Pressure9am  Pressure3pm   \n",
       "0           44.0          W        WNW  ...       1007.7       1007.1  \\\n",
       "1           44.0        NNW        WSW  ...       1010.6       1007.8   \n",
       "2           46.0          W        WSW  ...       1007.6       1008.7   \n",
       "3           24.0         SE          E  ...       1017.6       1012.8   \n",
       "4           41.0        ENE         NW  ...       1010.8       1006.0   \n",
       "\n",
       "   Cloud9am  Cloud3pm  Temp9am  Temp3pm  RainToday  RainTomorrow  day  month  \n",
       "0  8.000000   4.50993     16.9     21.8          0             0    1     12  \n",
       "1  4.447461   4.50993     17.2     24.3          0             0    2     12  \n",
       "2  4.447461   2.00000     21.0     23.2          0             0    3     12  \n",
       "3  4.447461   4.50993     18.1     26.5          0             0    4     12  \n",
       "4  7.000000   8.00000     17.8     29.7          0             0    5     12  \n",
       "\n",
       "[5 rows x 24 columns]"
      ]
     },
     "execution_count": 89,
     "metadata": {},
     "output_type": "execute_result"
    }
   ],
   "source": [
    "raw_data.head(5)"
   ]
  },
  {
   "cell_type": "code",
   "execution_count": 90,
   "id": "e293db1c",
   "metadata": {},
   "outputs": [
    {
     "name": "stdout",
     "output_type": "stream",
     "text": [
      "17\n"
     ]
    }
   ],
   "source": [
    "raw_data=pd.get_dummies(raw_data)\n",
    "index = raw_data.columns.get_loc('RainTomorrow')\n",
    "print(index)"
   ]
  },
  {
   "cell_type": "code",
   "execution_count": 91,
   "id": "0ddbd4b1",
   "metadata": {},
   "outputs": [
    {
     "data": {
      "text/html": [
       "<div>\n",
       "<style scoped>\n",
       "    .dataframe tbody tr th:only-of-type {\n",
       "        vertical-align: middle;\n",
       "    }\n",
       "\n",
       "    .dataframe tbody tr th {\n",
       "        vertical-align: top;\n",
       "    }\n",
       "\n",
       "    .dataframe thead th {\n",
       "        text-align: right;\n",
       "    }\n",
       "</style>\n",
       "<table border=\"1\" class=\"dataframe\">\n",
       "  <thead>\n",
       "    <tr style=\"text-align: right;\">\n",
       "      <th></th>\n",
       "      <th>MinTemp</th>\n",
       "      <th>MaxTemp</th>\n",
       "      <th>Rainfall</th>\n",
       "      <th>Evaporation</th>\n",
       "      <th>Sunshine</th>\n",
       "      <th>WindGustSpeed</th>\n",
       "      <th>WindSpeed9am</th>\n",
       "      <th>WindSpeed3pm</th>\n",
       "      <th>Humidity9am</th>\n",
       "      <th>Humidity3pm</th>\n",
       "      <th>...</th>\n",
       "      <th>WindDir3pm_NNW</th>\n",
       "      <th>WindDir3pm_NW</th>\n",
       "      <th>WindDir3pm_S</th>\n",
       "      <th>WindDir3pm_SE</th>\n",
       "      <th>WindDir3pm_SSE</th>\n",
       "      <th>WindDir3pm_SSW</th>\n",
       "      <th>WindDir3pm_SW</th>\n",
       "      <th>WindDir3pm_W</th>\n",
       "      <th>WindDir3pm_WNW</th>\n",
       "      <th>WindDir3pm_WSW</th>\n",
       "    </tr>\n",
       "  </thead>\n",
       "  <tbody>\n",
       "    <tr>\n",
       "      <th>0</th>\n",
       "      <td>13.4</td>\n",
       "      <td>22.9</td>\n",
       "      <td>0.6</td>\n",
       "      <td>5.468232</td>\n",
       "      <td>7.611178</td>\n",
       "      <td>44.0</td>\n",
       "      <td>20.0</td>\n",
       "      <td>24.0</td>\n",
       "      <td>71.0</td>\n",
       "      <td>22.0</td>\n",
       "      <td>...</td>\n",
       "      <td>False</td>\n",
       "      <td>False</td>\n",
       "      <td>False</td>\n",
       "      <td>False</td>\n",
       "      <td>False</td>\n",
       "      <td>False</td>\n",
       "      <td>False</td>\n",
       "      <td>False</td>\n",
       "      <td>True</td>\n",
       "      <td>False</td>\n",
       "    </tr>\n",
       "    <tr>\n",
       "      <th>1</th>\n",
       "      <td>7.4</td>\n",
       "      <td>25.1</td>\n",
       "      <td>0.0</td>\n",
       "      <td>5.468232</td>\n",
       "      <td>7.611178</td>\n",
       "      <td>44.0</td>\n",
       "      <td>4.0</td>\n",
       "      <td>22.0</td>\n",
       "      <td>44.0</td>\n",
       "      <td>25.0</td>\n",
       "      <td>...</td>\n",
       "      <td>False</td>\n",
       "      <td>False</td>\n",
       "      <td>False</td>\n",
       "      <td>False</td>\n",
       "      <td>False</td>\n",
       "      <td>False</td>\n",
       "      <td>False</td>\n",
       "      <td>False</td>\n",
       "      <td>False</td>\n",
       "      <td>True</td>\n",
       "    </tr>\n",
       "    <tr>\n",
       "      <th>2</th>\n",
       "      <td>12.9</td>\n",
       "      <td>25.7</td>\n",
       "      <td>0.0</td>\n",
       "      <td>5.468232</td>\n",
       "      <td>7.611178</td>\n",
       "      <td>46.0</td>\n",
       "      <td>19.0</td>\n",
       "      <td>26.0</td>\n",
       "      <td>38.0</td>\n",
       "      <td>30.0</td>\n",
       "      <td>...</td>\n",
       "      <td>False</td>\n",
       "      <td>False</td>\n",
       "      <td>False</td>\n",
       "      <td>False</td>\n",
       "      <td>False</td>\n",
       "      <td>False</td>\n",
       "      <td>False</td>\n",
       "      <td>False</td>\n",
       "      <td>False</td>\n",
       "      <td>True</td>\n",
       "    </tr>\n",
       "    <tr>\n",
       "      <th>3</th>\n",
       "      <td>9.2</td>\n",
       "      <td>28.0</td>\n",
       "      <td>0.0</td>\n",
       "      <td>5.468232</td>\n",
       "      <td>7.611178</td>\n",
       "      <td>24.0</td>\n",
       "      <td>11.0</td>\n",
       "      <td>9.0</td>\n",
       "      <td>45.0</td>\n",
       "      <td>16.0</td>\n",
       "      <td>...</td>\n",
       "      <td>False</td>\n",
       "      <td>False</td>\n",
       "      <td>False</td>\n",
       "      <td>False</td>\n",
       "      <td>False</td>\n",
       "      <td>False</td>\n",
       "      <td>False</td>\n",
       "      <td>False</td>\n",
       "      <td>False</td>\n",
       "      <td>False</td>\n",
       "    </tr>\n",
       "    <tr>\n",
       "      <th>4</th>\n",
       "      <td>17.5</td>\n",
       "      <td>32.3</td>\n",
       "      <td>1.0</td>\n",
       "      <td>5.468232</td>\n",
       "      <td>7.611178</td>\n",
       "      <td>41.0</td>\n",
       "      <td>7.0</td>\n",
       "      <td>20.0</td>\n",
       "      <td>82.0</td>\n",
       "      <td>33.0</td>\n",
       "      <td>...</td>\n",
       "      <td>False</td>\n",
       "      <td>True</td>\n",
       "      <td>False</td>\n",
       "      <td>False</td>\n",
       "      <td>False</td>\n",
       "      <td>False</td>\n",
       "      <td>False</td>\n",
       "      <td>False</td>\n",
       "      <td>False</td>\n",
       "      <td>False</td>\n",
       "    </tr>\n",
       "  </tbody>\n",
       "</table>\n",
       "<p>5 rows × 117 columns</p>\n",
       "</div>"
      ],
      "text/plain": [
       "   MinTemp  MaxTemp  Rainfall  Evaporation  Sunshine  WindGustSpeed   \n",
       "0     13.4     22.9       0.6     5.468232  7.611178           44.0  \\\n",
       "1      7.4     25.1       0.0     5.468232  7.611178           44.0   \n",
       "2     12.9     25.7       0.0     5.468232  7.611178           46.0   \n",
       "3      9.2     28.0       0.0     5.468232  7.611178           24.0   \n",
       "4     17.5     32.3       1.0     5.468232  7.611178           41.0   \n",
       "\n",
       "   WindSpeed9am  WindSpeed3pm  Humidity9am  Humidity3pm  ...  WindDir3pm_NNW   \n",
       "0          20.0          24.0         71.0         22.0  ...           False  \\\n",
       "1           4.0          22.0         44.0         25.0  ...           False   \n",
       "2          19.0          26.0         38.0         30.0  ...           False   \n",
       "3          11.0           9.0         45.0         16.0  ...           False   \n",
       "4           7.0          20.0         82.0         33.0  ...           False   \n",
       "\n",
       "   WindDir3pm_NW  WindDir3pm_S  WindDir3pm_SE  WindDir3pm_SSE  WindDir3pm_SSW   \n",
       "0          False         False          False           False           False  \\\n",
       "1          False         False          False           False           False   \n",
       "2          False         False          False           False           False   \n",
       "3          False         False          False           False           False   \n",
       "4           True         False          False           False           False   \n",
       "\n",
       "   WindDir3pm_SW  WindDir3pm_W  WindDir3pm_WNW  WindDir3pm_WSW  \n",
       "0          False         False            True           False  \n",
       "1          False         False           False            True  \n",
       "2          False         False           False            True  \n",
       "3          False         False           False           False  \n",
       "4          False         False           False           False  \n",
       "\n",
       "[5 rows x 117 columns]"
      ]
     },
     "execution_count": 91,
     "metadata": {},
     "output_type": "execute_result"
    }
   ],
   "source": [
    "raw_data.head(5)"
   ]
  },
  {
   "cell_type": "markdown",
   "id": "316a8a7e",
   "metadata": {},
   "source": [
    "### Principal components analysis"
   ]
  },
  {
   "cell_type": "code",
   "execution_count": 92,
   "id": "5a52664d",
   "metadata": {},
   "outputs": [],
   "source": [
    "from sklearn.preprocessing import StandardScaler\n",
    "from sklearn.decomposition import PCA\n",
    "\n",
    "raw_data_pp = StandardScaler().fit_transform(raw_data)\n",
    "pca = PCA().fit(raw_data_pp)\n",
    "\n",
    "# The PCA object offers convenient ways of accessing the\n",
    "# principal directions and explained variance\n",
    "pca.components_;\n",
    "pca.explained_variance_;\n",
    "\n",
    "# To get the principal components, the `transform` method of the\n",
    "# PCA object can be used\n",
    "principal_components_pca = pca.transform(raw_data_pp)"
   ]
  },
  {
   "cell_type": "code",
   "execution_count": 93,
   "id": "dae0bdb4",
   "metadata": {},
   "outputs": [
    {
     "data": {
      "image/png": "[encoded data removed]",
      "text/plain": [
       "<Figure size 600x400 with 1 Axes>"
      ]
     },
     "metadata": {},
     "output_type": "display_data"
    }
   ],
   "source": [
    "import matplotlib.pyplot as plt\n",
    "fig = plt.figure(figsize=(6, 4))\n",
    "ax = fig.gca()\n",
    "\n",
    "ax.plot(np.arange(1, len(pca.explained_variance_) + 1), pca.explained_variance_, 'ok', markersize=2)\n",
    "ax.axvline(6, linestyle=\"dashed\", color=\"red\", linewidth=1)\n",
    "\n",
    "ax.set_xlabel(\"Principal Component\")\n",
    "ax.set_ylabel(\"Explained Variance\");"
   ]
  },
  {
   "cell_type": "markdown",
   "id": "bf4d9f49",
   "metadata": {},
   "source": [
    "Looking at the screen plot, a good cut-off is after 5 principal components, since 5 and 6 are very close. So we could keep the first six columns of principal_components."
   ]
  },
  {
   "cell_type": "markdown",
   "id": "1a33ec1f",
   "metadata": {},
   "source": [
    "### Mislabel the dataset"
   ]
  },
  {
   "cell_type": "code",
   "execution_count": 94,
   "id": "a3e64795",
   "metadata": {},
   "outputs": [],
   "source": [
    "import pandas as pd\n",
    "import numpy as np\n",
    "\n",
    "# Get three copies of the original data set to mislabel in three different levels\n",
    "mislabel_data1 = raw_data.copy()\n",
    "mislabel_data2 = raw_data.copy()\n",
    "mislabel_data3 = raw_data.copy()\n",
    "\n",
    "# Define the percentage of labels to be swapped\n",
    "mislabeling_level1 = 20\n",
    "mislabeling_level2 = 30\n",
    "mislabeling_level3 = 70\n",
    "\n",
    "# Convert the labels to a numpy array for easier manipulation\n",
    "misclass_labels = np.array(raw_data['RainTomorrow'])\n",
    "\n",
    "# Calculate the number of labels to swap based on the percentage\n",
    "n_swap1 = int(len(misclass_labels) * mislabeling_level1 / 100)\n",
    "n_swap2 = int(len(misclass_labels) * mislabeling_level2 / 100)\n",
    "n_swap3 = int(len(misclass_labels) * mislabeling_level3 / 100)\n",
    "\n",
    "# Randomly select the indices of the labels to be swapped\n",
    "swap_indices1 = np.random.choice(len(misclass_labels), n_swap1, replace=False)\n",
    "swap_indices2 = np.random.choice(len(misclass_labels), n_swap2, replace=False)\n",
    "swap_indices3 = np.random.choice(len(misclass_labels), n_swap3, replace=False)\n",
    "\n",
    "# Swap the labels at the selected indices to their opposite values\n",
    "misclass_labels1 = misclass_labels.copy()\n",
    "misclass_labels1[swap_indices1] = 1 - misclass_labels1[swap_indices1]\n",
    "\n",
    "misclass_labels2 = misclass_labels.copy()\n",
    "misclass_labels2[swap_indices2] = 1 - misclass_labels2[swap_indices2]\n",
    "\n",
    "misclass_labels3 = misclass_labels.copy()\n",
    "misclass_labels3[swap_indices3] = 1 - misclass_labels3[swap_indices3]\n",
    "\n",
    "# Create new data frames from the modified label arrays\n",
    "mislabel_data1['RainTomorrow'] = pd.DataFrame(misclass_labels1, columns=['RainTomorrow'])\n",
    "mislabel_data2['RainTomorrow'] = pd.DataFrame(misclass_labels2, columns=['RainTomorrow'])\n",
    "mislabel_data3['RainTomorrow'] = pd.DataFrame(misclass_labels3, columns=['RainTomorrow'])"
   ]
  },
  {
   "cell_type": "code",
   "execution_count": 95,
   "id": "5b42cc69",
   "metadata": {},
   "outputs": [],
   "source": [
    "#label are the value we want to predict\n",
    "labels=raw_data['RainTomorrow']\n",
    "\n",
    "#remove the label from the features\n",
    "raw_data=raw_data.drop('RainTomorrow',axis=1)\n",
    "mislabel_data1 = mislabel_data1.drop('RainTomorrow',axis=1)\n",
    "mislabel_data2 = mislabel_data2.drop('RainTomorrow',axis=1)\n",
    "mislabel_data3 = mislabel_data3.drop('RainTomorrow',axis=1)\n",
    "\n",
    "\n",
    "#saving feature name \n",
    "feature_list=list(raw_data.columns)"
   ]
  },
  {
   "cell_type": "markdown",
   "id": "03457a96",
   "metadata": {},
   "source": [
    "### Splitting the data into training and test split"
   ]
  },
  {
   "cell_type": "code",
   "execution_count": 96,
   "id": "c101c349",
   "metadata": {},
   "outputs": [],
   "source": [
    "from sklearn.model_selection import train_test_split\n",
    "# Split the data into training and testing sets\n",
    "# Split to get unaltered test set\n",
    "_, test_features, _, test_labels = train_test_split(raw_data, labels, test_size=0.20, random_state=42)\n",
    "\n",
    "# Split to get 3 training sets with mislabeled data\n",
    "train_features1, _, train_labels1, _ = train_test_split(mislabel_data1, misclass_labels1, test_size=0.20, random_state=42)\n",
    "train_features2, _, train_labels2, _ = train_test_split(mislabel_data2, misclass_labels2, test_size=0.20, random_state=42)\n",
    "train_features3, _, train_labels3, _ = train_test_split(mislabel_data3, misclass_labels3, test_size=0.20, random_state=42)"
   ]
  },
  {
   "cell_type": "code",
   "execution_count": 148,
   "id": "0d2e1d83",
   "metadata": {},
   "outputs": [],
   "source": [
    "# pca\n",
    "pca = PCA(n_components=5)\n",
    "\n",
    "train_features_pca1 = pca.fit_transform(train_features1)\n",
    "train_features_pca2 = pca.fit_transform(train_features2)\n",
    "train_features_pca3 = pca.fit_transform(train_features3)\n",
    "test_features_pca = pca.fit_transform(test_features)\n"
   ]
  },
  {
   "cell_type": "markdown",
   "id": "0b7cb2d3",
   "metadata": {},
   "source": [
    "## KNN"
   ]
  },
  {
   "cell_type": "markdown",
   "id": "3dc84777",
   "metadata": {},
   "source": [
    "***for 20% misclassified***"
   ]
  },
  {
   "cell_type": "code",
   "execution_count": 154,
   "id": "b6ce7a6a",
   "metadata": {},
   "outputs": [
    {
     "name": "stdout",
     "output_type": "stream",
     "text": [
      "Accuracy:  83.0 %\n"
     ]
    }
   ],
   "source": [
    "from sklearn.tree import DecisionTreeClassifier\n",
    "from sklearn import neighbors\n",
    "model = neighbors.KNeighborsClassifier(20, weights='uniform')\n",
    "model.fit(train_features1, train_labels1)\n",
    "#calculate accuracy\n",
    "accuracy=model.score(test_features, test_labels)\n",
    "print('Accuracy: ',round(accuracy,2)*100,'%')"
   ]
  },
  {
   "cell_type": "code",
   "execution_count": 155,
   "id": "8bdc9fd8",
   "metadata": {},
   "outputs": [
    {
     "name": "stdout",
     "output_type": "stream",
     "text": [
      "Accuracy:  81.0 %\n"
     ]
    }
   ],
   "source": [
    "import numpy as np\n",
    "import matplotlib.pyplot as plt\n",
    "from sklearn.decomposition import PCA\n",
    "from sklearn.datasets import make_classification\n",
    "from sklearn.neighbors import KNeighborsClassifier\n",
    "\n",
    "\n",
    "# Uncomment if not performed the cross validation\n",
    "best_k = 41 #Best found k found to be 31/41\n",
    "\n",
    "\n",
    "# Train a K-nearest neighbor classifier on the projected data\n",
    "knn1 = KNeighborsClassifier(n_neighbors=best_k)\n",
    "knn1.fit(train_features_pca1, train_labels1)\n",
    "accuracy=knn1.score(test_features_pca, test_labels)\n",
    "print('Accuracy: ',round(accuracy,2)*100,'%')"
   ]
  },
  {
   "cell_type": "markdown",
   "id": "14667834",
   "metadata": {},
   "source": [
    "***for 30% misclassified***"
   ]
  },
  {
   "cell_type": "code",
   "execution_count": 156,
   "id": "0bb9dd43",
   "metadata": {},
   "outputs": [
    {
     "name": "stdout",
     "output_type": "stream",
     "text": [
      "Accuracy:  80.0 %\n"
     ]
    }
   ],
   "source": [
    "model.fit(train_features2, train_labels2)\n",
    "#calculate accuracy\n",
    "accuracy=model.score(test_features, test_labels)\n",
    "print('Accuracy: ',round(accuracy,2)*100,'%')"
   ]
  },
  {
   "cell_type": "code",
   "execution_count": 157,
   "id": "8724c9c6",
   "metadata": {},
   "outputs": [
    {
     "name": "stdout",
     "output_type": "stream",
     "text": [
      "Accuracy:  81.0 %\n"
     ]
    }
   ],
   "source": [
    "import numpy as np\n",
    "import matplotlib.pyplot as plt\n",
    "from sklearn.decomposition import PCA\n",
    "from sklearn.datasets import make_classification\n",
    "from sklearn.neighbors import KNeighborsClassifier\n",
    "\n",
    "\n",
    "# Uncomment if not performed the cross validation\n",
    "best_k = 41 #Best found k found to be 31/41\n",
    "\n",
    "\n",
    "# Train a K-nearest neighbor classifier on the projected data\n",
    "knn2 = KNeighborsClassifier(n_neighbors=best_k)\n",
    "knn2.fit(train_features_pca2, train_labels2)\n",
    "accuracy=knn1.score(test_features_pca, test_labels)\n",
    "print('Accuracy: ',round(accuracy,2)*100,'%')"
   ]
  },
  {
   "cell_type": "markdown",
   "id": "9f5f1056",
   "metadata": {},
   "source": [
    "***for 40% misclassified***"
   ]
  },
  {
   "cell_type": "code",
   "execution_count": 158,
   "id": "6a7a60b6",
   "metadata": {},
   "outputs": [
    {
     "name": "stdout",
     "output_type": "stream",
     "text": [
      "Accuracy:  23.0 %\n"
     ]
    }
   ],
   "source": [
    "model.fit(train_features3, train_labels3)\n",
    "#calculate accuracy\n",
    "accuracy=model.score(test_features, test_labels)\n",
    "print('Accuracy: ',round(accuracy,2)*100,'%')"
   ]
  },
  {
   "cell_type": "code",
   "execution_count": 159,
   "id": "ec51e723",
   "metadata": {},
   "outputs": [
    {
     "name": "stdout",
     "output_type": "stream",
     "text": [
      "Accuracy:  21.0 %\n"
     ]
    }
   ],
   "source": [
    "import numpy as np\n",
    "import matplotlib.pyplot as plt\n",
    "from sklearn.decomposition import PCA\n",
    "from sklearn.datasets import make_classification\n",
    "from sklearn.neighbors import KNeighborsClassifier\n",
    "\n",
    "\n",
    "# Uncomment if not performed the cross validation\n",
    "best_k = 41 #Best found k found to be 31/41\n",
    "\n",
    "# Train a K-nearest neighbor classifier on the projected data\n",
    "knn3 = KNeighborsClassifier(n_neighbors=best_k)\n",
    "knn3.fit(train_features_pca3, train_labels3)\n",
    "accuracy=knn3.score(test_features_pca, test_labels)\n",
    "print('Accuracy: ',round(accuracy,2)*100,'%')"
   ]
  },
  {
   "cell_type": "markdown",
   "id": "76c0777d",
   "metadata": {},
   "source": [
    "# Logistic Regression"
   ]
  },
  {
   "cell_type": "code",
   "execution_count": 160,
   "id": "fabcf506",
   "metadata": {},
   "outputs": [],
   "source": [
    "from sklearn.linear_model import LogisticRegression\n",
    "from sklearn.pipeline import make_pipeline\n",
    "from sklearn.preprocessing import StandardScaler"
   ]
  },
  {
   "cell_type": "markdown",
   "id": "1f7e1a12",
   "metadata": {},
   "source": [
    "***for 20% misclassified:***"
   ]
  },
  {
   "cell_type": "code",
   "execution_count": 161,
   "id": "31f556fe",
   "metadata": {},
   "outputs": [
    {
     "name": "stdout",
     "output_type": "stream",
     "text": [
      "0.8455245428296438\n"
     ]
    }
   ],
   "source": [
    "LogReg1 = make_pipeline(StandardScaler(), LogisticRegression(random_state=0))\n",
    "LogReg1.fit(train_features1, train_labels1)\n",
    "print(LogReg1.score(test_features, test_labels))"
   ]
  },
  {
   "cell_type": "code",
   "execution_count": 162,
   "id": "7792a807",
   "metadata": {},
   "outputs": [
    {
     "name": "stdout",
     "output_type": "stream",
     "text": [
      "0.8144850818094321\n"
     ]
    }
   ],
   "source": [
    "# Train a Logistic regression classifier on the projected data\n",
    "LogReg1.fit(train_features_pca1, train_labels1)\n",
    "print(LogReg1.score(test_features_pca, test_labels))"
   ]
  },
  {
   "cell_type": "markdown",
   "id": "7e28a176",
   "metadata": {},
   "source": [
    "***for 30% misclassified:***"
   ]
  },
  {
   "cell_type": "code",
   "execution_count": 163,
   "id": "a44ed209",
   "metadata": {},
   "outputs": [
    {
     "name": "stdout",
     "output_type": "stream",
     "text": [
      "0.8442527155231678\n"
     ]
    }
   ],
   "source": [
    "LogReg2 = make_pipeline(StandardScaler(), LogisticRegression(random_state=0))\n",
    "LogReg2.fit(train_features2, train_labels2)\n",
    "print(LogReg2.score(test_features, test_labels))"
   ]
  },
  {
   "cell_type": "code",
   "execution_count": 164,
   "id": "915e3c15",
   "metadata": {},
   "outputs": [
    {
     "name": "stdout",
     "output_type": "stream",
     "text": [
      "0.8150006874742197\n"
     ]
    }
   ],
   "source": [
    "# Train a Logistic regression classifier on the projected data\n",
    "LogReg2.fit(train_features_pca2, train_labels2)\n",
    "print(LogReg2.score(test_features_pca, test_labels))"
   ]
  },
  {
   "cell_type": "markdown",
   "id": "c6bb4435",
   "metadata": {},
   "source": [
    "***for 40% misclassified:***"
   ]
  },
  {
   "cell_type": "code",
   "execution_count": 165,
   "id": "4c6dd6df",
   "metadata": {},
   "outputs": [
    {
     "name": "stdout",
     "output_type": "stream",
     "text": [
      "0.15574728447683212\n"
     ]
    }
   ],
   "source": [
    "LogReg3 = make_pipeline(StandardScaler(), LogisticRegression(random_state=0))\n",
    "LogReg3.fit(train_features3, train_labels3)\n",
    "print(LogReg3.score(test_features, test_labels))"
   ]
  },
  {
   "cell_type": "code",
   "execution_count": 166,
   "id": "1d7b1de4",
   "metadata": {},
   "outputs": [
    {
     "name": "stdout",
     "output_type": "stream",
     "text": [
      "0.18668362436408634\n"
     ]
    }
   ],
   "source": [
    "# Train a Logistic regression classifier on the projected data\n",
    "LogReg3.fit(train_features_pca3, train_labels3)\n",
    "print(LogReg3.score(test_features_pca, test_labels))"
   ]
  },
  {
   "cell_type": "markdown",
   "id": "86adb632",
   "metadata": {},
   "source": [
    "# LDA"
   ]
  },
  {
   "cell_type": "markdown",
   "id": "a32b95a7",
   "metadata": {},
   "source": [
    "***For 20% misclassified:***"
   ]
  },
  {
   "cell_type": "code",
   "execution_count": 185,
   "id": "990882ae",
   "metadata": {},
   "outputs": [
    {
     "name": "stdout",
     "output_type": "stream",
     "text": [
      "0.8450433108758422\n"
     ]
    }
   ],
   "source": [
    "from sklearn.discriminant_analysis import LinearDiscriminantAnalysis\n",
    "LDA1 = make_pipeline(StandardScaler(), LinearDiscriminantAnalysis(solver='lsqr', shrinkage='auto'))\n",
    "LDA1.fit(train_features1, train_labels1)\n",
    "print(LDA1.score(test_features, test_labels))"
   ]
  },
  {
   "cell_type": "code",
   "execution_count": 186,
   "id": "10757caf",
   "metadata": {},
   "outputs": [
    {
     "name": "stdout",
     "output_type": "stream",
     "text": [
      "0.8134882441908429\n"
     ]
    }
   ],
   "source": [
    "# Train a LDA classifier on the projected data\n",
    "LDA1.fit(train_features_pca1, train_labels1)\n",
    "print(LDA1.score(test_features_pca, test_labels))"
   ]
  },
  {
   "cell_type": "markdown",
   "id": "8ebfafef",
   "metadata": {},
   "source": [
    "***For 30% misclassified:***"
   ]
  },
  {
   "cell_type": "code",
   "execution_count": 187,
   "id": "06642d3b",
   "metadata": {},
   "outputs": [
    {
     "name": "stdout",
     "output_type": "stream",
     "text": [
      "0.8443558366561253\n"
     ]
    }
   ],
   "source": [
    "from sklearn.discriminant_analysis import LinearDiscriminantAnalysis\n",
    "LDA2 = make_pipeline(StandardScaler(), LinearDiscriminantAnalysis(solver='lsqr', shrinkage='auto'))\n",
    "LDA2.fit(train_features2, train_labels2)\n",
    "print(LDA2.score(test_features, test_labels))"
   ]
  },
  {
   "cell_type": "code",
   "execution_count": 188,
   "id": "0d5b5db7",
   "metadata": {},
   "outputs": [
    {
     "name": "stdout",
     "output_type": "stream",
     "text": [
      "0.814725697786333\n"
     ]
    }
   ],
   "source": [
    "# Train a LDA classifier on the projected data\n",
    "LDA2.fit(train_features_pca2, train_labels2)\n",
    "print(LDA2.score(test_features_pca, test_labels))"
   ]
  },
  {
   "cell_type": "markdown",
   "id": "82f8f4b3",
   "metadata": {},
   "source": [
    "***For 40% misclassified:***"
   ]
  },
  {
   "cell_type": "code",
   "execution_count": 189,
   "id": "f14cb0dd",
   "metadata": {},
   "outputs": [
    {
     "name": "stdout",
     "output_type": "stream",
     "text": [
      "0.1558160318988038\n"
     ]
    }
   ],
   "source": [
    "from sklearn.discriminant_analysis import LinearDiscriminantAnalysis\n",
    "LDA3 = make_pipeline(StandardScaler(), LinearDiscriminantAnalysis(solver='lsqr', shrinkage='auto'))\n",
    "LDA3.fit(train_features3, train_labels3)\n",
    "print(LDA3.score(test_features, test_labels))"
   ]
  },
  {
   "cell_type": "code",
   "execution_count": 190,
   "id": "e84b5a46",
   "metadata": {},
   "outputs": [
    {
     "name": "stdout",
     "output_type": "stream",
     "text": [
      "0.1867179980750722\n"
     ]
    }
   ],
   "source": [
    "# Train a LDA classifier on the projected data\n",
    "LDA3.fit(train_features_pca3, train_labels3)\n",
    "print(LDA3.score(test_features_pca, test_labels))"
   ]
  },
  {
   "cell_type": "markdown",
   "id": "472fa340",
   "metadata": {},
   "source": [
    "### Cross-validation comparison between the different classifier methods"
   ]
  },
  {
   "cell_type": "code",
   "execution_count": 191,
   "id": "a5a9f937",
   "metadata": {},
   "outputs": [],
   "source": [
    "from sklearn.model_selection import cross_validate\n",
    "scoring = ['f1_macro', 'accuracy', 'roc_auc']"
   ]
  },
  {
   "cell_type": "markdown",
   "id": "07c8271b",
   "metadata": {},
   "source": [
    "***For 20% misclassified:***"
   ]
  },
  {
   "cell_type": "code",
   "execution_count": 192,
   "id": "46ecb931",
   "metadata": {},
   "outputs": [
    {
     "name": "stdout",
     "output_type": "stream",
     "text": [
      "KNN F1 Macro: 0.5795413103942104, Accuracy: 0.6984136144792249, ROC AUC: 0.6369975492744329\n",
      "Logistic Regression: F1 Macro: 0.5575296305466833, Accuracy: 0.6977862976501293, ROC AUC: 0.6515288036279845\n",
      "LDA: F1 Macro: 0.5608853222410966, Accuracy: 0.6977948916686925, ROC AUC: 0.6514138839869673\n"
     ]
    }
   ],
   "source": [
    "cv_knn1 = cross_validate(knn1, train_features_pca, train_labels1, cv=10, scoring=scoring)\n",
    "cv_LogReg1 = cross_validate(LogReg1, train_features_pca, train_labels1, cv=10, scoring=scoring)\n",
    "cv_LDA1 = cross_validate(LDA1, train_features_pca, train_labels1, cv=10, scoring=scoring)\n",
    "\n",
    "print(f\"KNN F1 Macro: {np.mean(cv_knn1['test_f1_macro'])}, Accuracy: {np.mean(cv_knn1['test_accuracy'])}, ROC AUC: {np.mean(cv_knn1['test_roc_auc'])}\")\n",
    "print(f\"Logistic Regression: F1 Macro: {np.mean(cv_LogReg1['test_f1_macro'])}, Accuracy: {np.mean(cv_LogReg1['test_accuracy'])}, ROC AUC: {np.mean(cv_LogReg1['test_roc_auc'])}\")\n",
    "print(f\"LDA: F1 Macro: {np.mean(cv_LDA1['test_f1_macro'])}, Accuracy: {np.mean(cv_LDA1['test_accuracy'])}, ROC AUC: {np.mean(cv_LDA1['test_roc_auc'])}\")"
   ]
  },
  {
   "cell_type": "markdown",
   "id": "4ef46088",
   "metadata": {},
   "source": [
    "***For 30% misclassified:***"
   ]
  },
  {
   "cell_type": "code",
   "execution_count": 193,
   "id": "24ecbe21",
   "metadata": {},
   "outputs": [
    {
     "name": "stdout",
     "output_type": "stream",
     "text": [
      "KNN F1 Macro: 0.5279681391835889, Accuracy: 0.6249398167607836, ROC AUC: 0.5722812704791308\n",
      "Logistic Regression: F1 Macro: 0.5028061325619815, Accuracy: 0.6305341639304204, ROC AUC: 0.5941376662523679\n",
      "LDA: F1 Macro: 0.5044123866267677, Accuracy: 0.6306802519068796, ROC AUC: 0.5941067400809859\n"
     ]
    }
   ],
   "source": [
    "cv_knn2 = cross_validate(knn2, train_features_pca, train_labels2, cv=10, scoring=scoring)\n",
    "cv_LogReg2 = cross_validate(LogReg2, train_features_pca, train_labels2, cv=10, scoring=scoring)\n",
    "cv_LDA2 = cross_validate(LDA2, train_features_pca, train_labels2, cv=10, scoring=scoring)\n",
    "\n",
    "print(f\"KNN F1 Macro: {np.mean(cv_knn2['test_f1_macro'])}, Accuracy: {np.mean(cv_knn2['test_accuracy'])}, ROC AUC: {np.mean(cv_knn2['test_roc_auc'])}\")\n",
    "print(f\"Logistic Regression: F1 Macro: {np.mean(cv_LogReg2['test_f1_macro'])}, Accuracy: {np.mean(cv_LogReg2['test_accuracy'])}, ROC AUC: {np.mean(cv_LogReg2['test_roc_auc'])}\")\n",
    "print(f\"LDA: F1 Macro: {np.mean(cv_LDA2['test_f1_macro'])}, Accuracy: {np.mean(cv_LDA2['test_accuracy'])}, ROC AUC: {np.mean(cv_LDA2['test_roc_auc'])}\")"
   ]
  },
  {
   "cell_type": "markdown",
   "id": "69a4e96b",
   "metadata": {},
   "source": [
    "***For 40% misclassified:***"
   ]
  },
  {
   "cell_type": "code",
   "execution_count": 194,
   "id": "3a85bcf3",
   "metadata": {},
   "outputs": [
    {
     "name": "stdout",
     "output_type": "stream",
     "text": [
      "KNN F1 Macro: 0.5273877887036722, Accuracy: 0.6247507815852597, ROC AUC: 0.5736128238980363\n",
      "Logistic Regression: F1 Macro: 0.5011523268852314, Accuracy: 0.6303107630197572, ROC AUC: 0.5939774960744667\n",
      "LDA: F1 Macro: 0.5028497112307161, Accuracy: 0.6303795122142295, ROC AUC: 0.593947592148331\n"
     ]
    }
   ],
   "source": [
    "cv_knn3 = cross_validate(knn3, train_features_pca, train_labels3, cv=10, scoring=scoring)\n",
    "cv_LogReg3 = cross_validate(LogReg3, train_features_pca, train_labels3, cv=10, scoring=scoring)\n",
    "cv_LDA3 = cross_validate(LDA3, train_features_pca, train_labels3, cv=10, scoring=scoring)\n",
    "\n",
    "print(f\"KNN F1 Macro: {np.mean(cv_knn3['test_f1_macro'])}, Accuracy: {np.mean(cv_knn3['test_accuracy'])}, ROC AUC: {np.mean(cv_knn3['test_roc_auc'])}\")\n",
    "print(f\"Logistic Regression: F1 Macro: {np.mean(cv_LogReg3['test_f1_macro'])}, Accuracy: {np.mean(cv_LogReg3['test_accuracy'])}, ROC AUC: {np.mean(cv_LogReg3['test_roc_auc'])}\")\n",
    "print(f\"LDA: F1 Macro: {np.mean(cv_LDA3['test_f1_macro'])}, Accuracy: {np.mean(cv_LDA3['test_accuracy'])}, ROC AUC: {np.mean(cv_LDA3['test_roc_auc'])}\")"
   ]
  },
  {
   "cell_type": "code",
   "execution_count": null,
   "id": "efff4c4f",
   "metadata": {},
   "outputs": [],
   "source": []
  }
 ],
 "metadata": {
  "kernelspec": {
   "display_name": "bigdatavenv1",
   "language": "python",
   "name": "bigdatavenv1"
  },
  "language_info": {
   "codemirror_mode": {
    "name": "ipython",
    "version": 3
   },
   "file_extension": ".py",
   "mimetype": "text/x-python",
   "name": "python",
   "nbconvert_exporter": "python",
   "pygments_lexer": "ipython3",
   "version": "3.11.0"
  }
 },
 "nbformat": 4,
 "nbformat_minor": 5
}

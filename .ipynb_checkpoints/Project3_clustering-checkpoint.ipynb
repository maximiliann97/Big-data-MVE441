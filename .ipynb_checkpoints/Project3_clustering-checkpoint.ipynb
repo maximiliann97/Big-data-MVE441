{
 "cells": [
  {
   "cell_type": "markdown",
   "id": "397dad65",
   "metadata": {},
   "source": [
    "## Data preparation"
   ]
  },
  {
   "cell_type": "code",
   "execution_count": 1,
   "id": "1ec8b025",
   "metadata": {
    "scrolled": false
   },
   "outputs": [
    {
     "name": "stdout",
     "output_type": "stream",
     "text": [
      "(82,)\n",
      "(82, 2999)\n"
     ]
    }
   ],
   "source": [
    "import numpy as np\n",
    "\n",
    "labels = list()\n",
    "\n",
    "with open('Cancerdata.txt') as f:\n",
    "    lines = f.readlines()\n",
    "    for i, line in enumerate(lines):\n",
    "        if i == 0:\n",
    "            continue\n",
    "        line = line.split('\\t')\n",
    "        line = [item.rstrip() for item in line]\n",
    "        line[0] = float(line[0].strip('\"'))\n",
    "        line[1:] = [float(x) for x in line[1:]]\n",
    "        line = np.asarray(line)\n",
    "        \n",
    "        # Append labels\n",
    "        labels.append(int(line[1]))\n",
    "        \n",
    "        # Create the data np.array with first observation\n",
    "        # Vstack the rest of the observations to the newly created data matrix\n",
    "        observation = line[2:]\n",
    "        if i == 1:\n",
    "            data = observation\n",
    "        else:\n",
    "            data = np.vstack((data, observation))\n",
    "        \n",
    "labels = np.asarray(labels)\n",
    "\n",
    "print(np.shape(labels))\n",
    "print(np.shape(data))"
   ]
  },
  {
   "cell_type": "markdown",
   "id": "66074181",
   "metadata": {},
   "source": [
    "### Plot functions"
   ]
  },
  {
   "cell_type": "code",
   "execution_count": 17,
   "id": "d4e1d8b7",
   "metadata": {},
   "outputs": [],
   "source": [
    "def plot_true_vs_predict_2d(true_labels, predicted_labels, pca_component1=None, pca_component2=None):\n",
    "    pca_component1 = 0 if pca_component1 is None else pca_component1\n",
    "    pca_component2 = 1 if pca_component2 is None else pca_component2\n",
    "\n",
    "    colors = ['red', '#7FFF00', 'blue']\n",
    "    plt.figure(3)\n",
    "\n",
    "    for i in u_labels:\n",
    "        plt.scatter(principal_components_pca[predicted_labels == i , pca_component1] , principal_components_pca[predicted_labels == i , pca_component2] , label = i, color=colors[i])\n",
    "        plt.scatter(principal_components_pca[true_labels == i , pca_component1] , principal_components_pca[true_labels == i , pca_component2] , label = i, marker=\"x\", color=colors[i], zorder=5)\n",
    "\n",
    "    plt.title('Plot of the real-label and kMean-label')\n",
    "    plt.xlabel('Principal component ' + str(pca_component1+1))\n",
    "    plt.ylabel('Principal component ' + str(pca_component2+1))"
   ]
  },
  {
   "cell_type": "code",
   "execution_count": 16,
   "id": "63b1f2e1",
   "metadata": {},
   "outputs": [],
   "source": [
    "def plot_true_vs_predict_3d(true_labels, predicted_labels, pca_component1=None, pca_component2=None, pca_component3 = None):\n",
    "    pca_component1 = 0 if pca_component1 is None else pca_component1\n",
    "    pca_component2 = 1 if pca_component2 is None else pca_component2\n",
    "    pca_component3 = 2 if pca_component3 is None else pca_component3\n",
    "\n",
    "    colors = ['red', '#7FFF00', 'blue']\n",
    "    fig = plt.figure()\n",
    "    ax = fig.add_subplot(111, projection ='3d')\n",
    "\n",
    "\n",
    "    for i in u_labels:\n",
    "        plt.scatter(principal_components_pca[predicted_labels == i , pca_component1] , principal_components_pca[predicted_labels == i , pca_component2], principal_components_pca[predicted_labels == i , pca_component3] , label = i, color=colors[i])\n",
    "        plt.scatter(principal_components_pca[true_labels == i , pca_component1] , principal_components_pca[true_labels == i , pca_component2], principal_components_pca[true_labels == i , pca_component3], label = i, marker=\"x\", color=colors[i], zorder=5)\n",
    "\n",
    "    plt.title('Plot of the real-label and kMean-label')\n",
    "    plt.xlabel('Principal component ' + str(pca_component1+1))\n",
    "    plt.ylabel('Principal component ' + str(pca_component2+1))"
   ]
  },
  {
   "cell_type": "markdown",
   "id": "9fffabf8",
   "metadata": {},
   "source": [
    "### Cross validation function"
   ]
  },
  {
   "cell_type": "code",
   "execution_count": 49,
   "id": "b1d620db",
   "metadata": {},
   "outputs": [],
   "source": [
    "from sklearn.pipeline import make_pipeline\n",
    "from collections import Counter\n",
    "from tqdm import trange\n",
    "\n",
    "\n",
    "def cross_validation(components):\n",
    "\"\"\"\n",
    "components: Is the range of components that should be evaluated, should be from elbow to explained variance threshold\n",
    "\"\"\"    \n",
    "    for nr_comp in components:\n",
    "        pca_comp = pca(data, nr_comp)\n",
    "        \n"
   ]
  },
  {
   "cell_type": "markdown",
   "id": "6a56a6ef",
   "metadata": {},
   "source": [
    "## Step 1\n",
    "\n",
    "### Dimension and feature selection techniques suited for unsupervised clustering tasks\n",
    "\n",
    "1. Principal Component Analysis (PCA)\n",
    "2. Independent Component Analysis (ICA)\n",
    "3. Random Projections\n",
    "4. Feature Selection based on Clustering Quality\n",
    "5. Recursive Feature Elimination (RFE)\n",
    "\n",
    "Principal Component Analysis (PCA): PCA is a technique that reduces the dimensionality of the data by identifying the most important features that capture the most variance in the data. PCA is a powerful technique for feature selection, as it can often reduce the number of features required for clustering while still retaining the important information.\n",
    "\n",
    "Independent Component Analysis (ICA): ICA is a technique that separates the data into independent sources based on statistical properties. ICA can be used for feature selection by identifying the features that have the most independent information, which can help to remove redundant or noisy features.\n",
    "\n",
    "Random Projections: Random projections is a technique that can be used to reduce the dimensionality of the data by projecting the data onto a lower-dimensional subspace. Random projections can be used for feature selection by identifying the most important dimensions that capture the most variance in the data.\n",
    "\n",
    "Feature Selection based on Clustering Quality: This approach selects the features that produce the best clustering results. This method works by selecting a subset of features and evaluating the clustering performance with different clustering algorithms, and selecting the subset of features that results in the best clustering performance.\n",
    "\n",
    "Recursive Feature Elimination (RFE): RFE is a feature selection method that selects features by recursively considering smaller and smaller subsets of features. RFE works by training a model on the full set of features, ranking the importance of the features, and then eliminating the least important feature. This process is repeated until a predetermined number of features is reached."
   ]
  },
  {
   "cell_type": "markdown",
   "id": "c061368b",
   "metadata": {},
   "source": [
    "## PCA"
   ]
  },
  {
   "cell_type": "code",
   "execution_count": 2,
   "id": "45037de1",
   "metadata": {},
   "outputs": [
    {
     "name": "stdout",
     "output_type": "stream",
     "text": [
      "2999\n"
     ]
    }
   ],
   "source": [
    "from sklearn.preprocessing import StandardScaler\n",
    "from sklearn.decomposition import PCA\n",
    "\n",
    "\n",
    "data_pp = StandardScaler().fit_transform(data)\n",
    "pca = PCA(svd_solver=\"auto\").fit(data_pp)\n",
    "# The PCA object offers convenient ways of accessing the\n",
    "# principal directions and explained variance\n",
    "pca.components_;\n",
    "pca.explained_variance_;\n",
    "\n",
    "# To get the principal components, the `transform` method of the\n",
    "# PCA object can be used\n",
    "principal_components_pca = pca.transform(data_pp)"
   ]
  },
  {
   "cell_type": "code",
   "execution_count": 3,
   "id": "55a383a5",
   "metadata": {},
   "outputs": [
    {
     "name": "stdout",
     "output_type": "stream",
     "text": [
      "3036.024691358025\n"
     ]
    },
    {
     "data": {
      "image/png": "[encoded data removed]",
      "text/plain": [
       "<Figure size 600x400 with 1 Axes>"
      ]
     },
     "metadata": {},
     "output_type": "display_data"
    }
   ],
   "source": [
    "import matplotlib.pyplot as plt\n",
    "fig = plt.figure(figsize=(6, 4))\n",
    "ax = fig.gca()\n",
    "\n",
    "ax.plot(np.arange(1, len(pca.components_) + 1), pca.explained_variance_, 'ok', markersize=2)\n",
    "ax.axvline(12, linestyle=\"dashed\", color=\"red\", linewidth=1)\n",
    "ax.axhline(1, linestyle=\"dashed\", color=\"green\", linewidth=1)\n",
    "\n",
    "ax.set_xlabel(\"Principal Component\")\n",
    "ax.set_ylabel(\"Explained Variance\");"
   ]
  },
  {
   "cell_type": "code",
   "execution_count": 13,
   "id": "50a12d1e",
   "metadata": {},
   "outputs": [],
   "source": [
    "from sklearn.decomposition import PCA\n",
    "from sklearn.preprocessing import StandardScaler\n",
    "\n",
    "def pca(data, nr_components):\n",
    "    scaled_data = StandardScaler().fit_transform(data)\n",
    "    pca = PCA(n_components=nr_components).fit_transform(scaled_data)\n",
    "    return pca\n",
    "    "
   ]
  },
  {
   "cell_type": "markdown",
   "id": "9172c8ad",
   "metadata": {},
   "source": [
    "### Random projection"
   ]
  },
  {
   "cell_type": "code",
   "execution_count": 43,
   "id": "f2632b32",
   "metadata": {},
   "outputs": [
    {
     "data": {
      "image/png": "[encoded data removed]",
      "text/plain": [
       "<Figure size 640x480 with 1 Axes>"
      ]
     },
     "metadata": {},
     "output_type": "display_data"
    },
    {
     "name": "stdout",
     "output_type": "stream",
     "text": [
      "Number of components = 41\n"
     ]
    }
   ],
   "source": [
    "import numpy as np\n",
    "import matplotlib.pyplot as plt\n",
    "from sklearn.random_projection import GaussianRandomProjection\n",
    "\n",
    "rp = GaussianRandomProjection(n_components=82).fit(data)\n",
    "\n",
    "# Compute the explained variance ratio for each component\n",
    "explained_variances = np.abs(rp.components_).var(axis=1) / np.abs(rp.components_).var().sum()\n",
    "\n",
    "# Sort the components based on their explained variance\n",
    "sorted_indices = np.argsort(explained_variances)[::-1]\n",
    "explained_variances_sorted = explained_variances[sorted_indices]# Compute the explained variance ratio for each component\n",
    "explained_variances = np.abs(rp.components_).var(axis=1) / np.abs(rp.components_).var().sum()\n",
    "\n",
    "# Sort the components based on their explained variance\n",
    "sorted_indices = np.argsort(explained_variances)[::-1]\n",
    "explained_variances_sorted = explained_variances[sorted_indices]\n",
    "\n",
    "# Plot the scree plot\n",
    "plt.plot(np.arange(1, len(explained_variances) + 1), explained_variances_sorted, 'ok',markersize=2)\n",
    "plt.axhline(1, linestyle=\"dashed\", color=\"red\", linewidth=1)\n",
    "plt.xlabel('Component number')\n",
    "plt.ylabel('Explained variance')\n",
    "plt.show()\n",
    "\n",
    "n_components = np.sum(explained_variances_sorted > 1)\n",
    "print(f'Number of components = {n_components}')"
   ]
  },
  {
   "cell_type": "code",
   "execution_count": 22,
   "id": "35f27be6",
   "metadata": {},
   "outputs": [],
   "source": [
    "def random_projection(data, nr_components):\n",
    "    scaled_data = StandardScaler().fit_transform(data)\n",
    "    return GaussianRandomProjection(n_components=nr_components).fit_transform(scaled_data)\n",
    "    "
   ]
  },
  {
   "cell_type": "markdown",
   "id": "0fb54d40",
   "metadata": {},
   "source": [
    "## Clustering methods"
   ]
  },
  {
   "cell_type": "code",
   "execution_count": 15,
   "id": "95e7f8c9",
   "metadata": {},
   "outputs": [],
   "source": [
    "def kmeans_clustering(reduced_data, nr_clusters):\n",
    "    kmeans = KMeans(init=\"k-means++\", n_clusters=nr_clusters).fit(reduced_data)\n",
    "    return kmean.labels_"
   ]
  }
 ],
 "metadata": {
  "kernelspec": {
   "display_name": "bigdata_venv",
   "language": "python",
   "name": "bigdata_venv"
  },
  "language_info": {
   "codemirror_mode": {
    "name": "ipython",
    "version": 3
   },
   "file_extension": ".py",
   "mimetype": "text/x-python",
   "name": "python",
   "nbconvert_exporter": "python",
   "pygments_lexer": "ipython3",
   "version": "3.11.0"
  }
 },
 "nbformat": 4,
 "nbformat_minor": 5
}

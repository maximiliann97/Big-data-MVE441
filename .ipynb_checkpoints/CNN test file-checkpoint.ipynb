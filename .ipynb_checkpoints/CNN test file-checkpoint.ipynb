{
 "cells": [
  {
   "cell_type": "code",
   "execution_count": 8,
   "id": "c8ec1663",
   "metadata": {},
   "outputs": [],
   "source": [
    "import torch\n",
    "import numpy as np\n",
    "import pandas as pd\n",
    "from torch.utils.data import TensorDataset, DataLoader\n",
    "\n",
    "\n",
    "CATSnDOGS = np.array(pd.read_csv(\"CATSnDOGS.csv\"))\n",
    "Labels = np.array(pd.read_csv(\"Labels.csv\"))\n",
    "\n",
    "CATSnDOGS = CATSnDOGS.reshape(-1, 1, 64, 64)\n",
    "data = torch.from_numpy(CATSnDOGS).float()\n",
    "labels = torch.from_numpy(Labels.ravel()).long()\n",
    "\n",
    "dataset = TensorDataset(data, labels)\n",
    "\n",
    "\n",
    "# Split data into training and validation sets\n",
    "train_size = int(0.8 * len(dataset))\n",
    "val_size = len(dataset) - train_size\n",
    "train_dataset, val_dataset = torch.utils.data.random_split(dataset, [train_size, val_size])\n",
    "\n",
    "# Create data loaders\n",
    "batch_size = 32\n",
    "train_loader = DataLoader(train_dataset, batch_size=batch_size, shuffle=True)\n",
    "val_loader = DataLoader(val_dataset, batch_size=batch_size, shuffle=False)"
   ]
  },
  {
   "cell_type": "code",
   "execution_count": null,
   "id": "04fdbb16",
   "metadata": {},
   "outputs": [],
   "source": [
    "import torch.nn as nn\n",
    "\n",
    "class CNN(nn.Module)\n",
    "    def __init__(self):\n",
    "        super().__init__()\n",
    "        self.linear = "
   ]
  }
 ],
 "metadata": {
  "kernelspec": {
   "display_name": "bigdata_venv",
   "language": "python",
   "name": "bigdata_venv"
  },
  "language_info": {
   "codemirror_mode": {
    "name": "ipython",
    "version": 3
   },
   "file_extension": ".py",
   "mimetype": "text/x-python",
   "name": "python",
   "nbconvert_exporter": "python",
   "pygments_lexer": "ipython3",
   "version": "3.11.0"
  }
 },
 "nbformat": 4,
 "nbformat_minor": 5
}

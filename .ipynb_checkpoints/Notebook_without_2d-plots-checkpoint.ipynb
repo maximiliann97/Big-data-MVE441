{
 "cells": [
  {
   "cell_type": "code",
   "execution_count": 2,
   "id": "1d5cc3f5",
   "metadata": {},
   "outputs": [],
   "source": [
    "import numpy as np\n",
    "import pandas as pd\n",
    "import seaborn as sns"
   ]
  },
  {
   "cell_type": "code",
   "execution_count": 3,
   "id": "8902c703",
   "metadata": {},
   "outputs": [
    {
     "data": {
      "text/html": [
       "<div>\n",
       "<style scoped>\n",
       "    .dataframe tbody tr th:only-of-type {\n",
       "        vertical-align: middle;\n",
       "    }\n",
       "\n",
       "    .dataframe tbody tr th {\n",
       "        vertical-align: top;\n",
       "    }\n",
       "\n",
       "    .dataframe thead th {\n",
       "        text-align: right;\n",
       "    }\n",
       "</style>\n",
       "<table border=\"1\" class=\"dataframe\">\n",
       "  <thead>\n",
       "    <tr style=\"text-align: right;\">\n",
       "      <th></th>\n",
       "      <th>MinTemp</th>\n",
       "      <th>MaxTemp</th>\n",
       "      <th>Rainfall</th>\n",
       "      <th>Evaporation</th>\n",
       "      <th>Sunshine</th>\n",
       "      <th>WindGustSpeed</th>\n",
       "      <th>WindSpeed9am</th>\n",
       "      <th>WindSpeed3pm</th>\n",
       "      <th>Humidity9am</th>\n",
       "      <th>Humidity3pm</th>\n",
       "      <th>...</th>\n",
       "      <th>WindDir3pm_NNW</th>\n",
       "      <th>WindDir3pm_NW</th>\n",
       "      <th>WindDir3pm_S</th>\n",
       "      <th>WindDir3pm_SE</th>\n",
       "      <th>WindDir3pm_SSE</th>\n",
       "      <th>WindDir3pm_SSW</th>\n",
       "      <th>WindDir3pm_SW</th>\n",
       "      <th>WindDir3pm_W</th>\n",
       "      <th>WindDir3pm_WNW</th>\n",
       "      <th>WindDir3pm_WSW</th>\n",
       "    </tr>\n",
       "  </thead>\n",
       "  <tbody>\n",
       "    <tr>\n",
       "      <th>0</th>\n",
       "      <td>13.4</td>\n",
       "      <td>22.9</td>\n",
       "      <td>0.6</td>\n",
       "      <td>5.468232</td>\n",
       "      <td>7.611178</td>\n",
       "      <td>44.0</td>\n",
       "      <td>20.0</td>\n",
       "      <td>24.0</td>\n",
       "      <td>71.0</td>\n",
       "      <td>22.0</td>\n",
       "      <td>...</td>\n",
       "      <td>False</td>\n",
       "      <td>False</td>\n",
       "      <td>False</td>\n",
       "      <td>False</td>\n",
       "      <td>False</td>\n",
       "      <td>False</td>\n",
       "      <td>False</td>\n",
       "      <td>False</td>\n",
       "      <td>True</td>\n",
       "      <td>False</td>\n",
       "    </tr>\n",
       "    <tr>\n",
       "      <th>1</th>\n",
       "      <td>7.4</td>\n",
       "      <td>25.1</td>\n",
       "      <td>0.0</td>\n",
       "      <td>5.468232</td>\n",
       "      <td>7.611178</td>\n",
       "      <td>44.0</td>\n",
       "      <td>4.0</td>\n",
       "      <td>22.0</td>\n",
       "      <td>44.0</td>\n",
       "      <td>25.0</td>\n",
       "      <td>...</td>\n",
       "      <td>False</td>\n",
       "      <td>False</td>\n",
       "      <td>False</td>\n",
       "      <td>False</td>\n",
       "      <td>False</td>\n",
       "      <td>False</td>\n",
       "      <td>False</td>\n",
       "      <td>False</td>\n",
       "      <td>False</td>\n",
       "      <td>True</td>\n",
       "    </tr>\n",
       "    <tr>\n",
       "      <th>2</th>\n",
       "      <td>12.9</td>\n",
       "      <td>25.7</td>\n",
       "      <td>0.0</td>\n",
       "      <td>5.468232</td>\n",
       "      <td>7.611178</td>\n",
       "      <td>46.0</td>\n",
       "      <td>19.0</td>\n",
       "      <td>26.0</td>\n",
       "      <td>38.0</td>\n",
       "      <td>30.0</td>\n",
       "      <td>...</td>\n",
       "      <td>False</td>\n",
       "      <td>False</td>\n",
       "      <td>False</td>\n",
       "      <td>False</td>\n",
       "      <td>False</td>\n",
       "      <td>False</td>\n",
       "      <td>False</td>\n",
       "      <td>False</td>\n",
       "      <td>False</td>\n",
       "      <td>True</td>\n",
       "    </tr>\n",
       "    <tr>\n",
       "      <th>3</th>\n",
       "      <td>9.2</td>\n",
       "      <td>28.0</td>\n",
       "      <td>0.0</td>\n",
       "      <td>5.468232</td>\n",
       "      <td>7.611178</td>\n",
       "      <td>24.0</td>\n",
       "      <td>11.0</td>\n",
       "      <td>9.0</td>\n",
       "      <td>45.0</td>\n",
       "      <td>16.0</td>\n",
       "      <td>...</td>\n",
       "      <td>False</td>\n",
       "      <td>False</td>\n",
       "      <td>False</td>\n",
       "      <td>False</td>\n",
       "      <td>False</td>\n",
       "      <td>False</td>\n",
       "      <td>False</td>\n",
       "      <td>False</td>\n",
       "      <td>False</td>\n",
       "      <td>False</td>\n",
       "    </tr>\n",
       "    <tr>\n",
       "      <th>4</th>\n",
       "      <td>17.5</td>\n",
       "      <td>32.3</td>\n",
       "      <td>1.0</td>\n",
       "      <td>5.468232</td>\n",
       "      <td>7.611178</td>\n",
       "      <td>41.0</td>\n",
       "      <td>7.0</td>\n",
       "      <td>20.0</td>\n",
       "      <td>82.0</td>\n",
       "      <td>33.0</td>\n",
       "      <td>...</td>\n",
       "      <td>False</td>\n",
       "      <td>True</td>\n",
       "      <td>False</td>\n",
       "      <td>False</td>\n",
       "      <td>False</td>\n",
       "      <td>False</td>\n",
       "      <td>False</td>\n",
       "      <td>False</td>\n",
       "      <td>False</td>\n",
       "      <td>False</td>\n",
       "    </tr>\n",
       "  </tbody>\n",
       "</table>\n",
       "<p>5 rows × 117 columns</p>\n",
       "</div>"
      ],
      "text/plain": [
       "   MinTemp  MaxTemp  Rainfall  Evaporation  Sunshine  WindGustSpeed   \n",
       "0     13.4     22.9       0.6     5.468232  7.611178           44.0  \\\n",
       "1      7.4     25.1       0.0     5.468232  7.611178           44.0   \n",
       "2     12.9     25.7       0.0     5.468232  7.611178           46.0   \n",
       "3      9.2     28.0       0.0     5.468232  7.611178           24.0   \n",
       "4     17.5     32.3       1.0     5.468232  7.611178           41.0   \n",
       "\n",
       "   WindSpeed9am  WindSpeed3pm  Humidity9am  Humidity3pm  ...  WindDir3pm_NNW   \n",
       "0          20.0          24.0         71.0         22.0  ...           False  \\\n",
       "1           4.0          22.0         44.0         25.0  ...           False   \n",
       "2          19.0          26.0         38.0         30.0  ...           False   \n",
       "3          11.0           9.0         45.0         16.0  ...           False   \n",
       "4           7.0          20.0         82.0         33.0  ...           False   \n",
       "\n",
       "   WindDir3pm_NW  WindDir3pm_S  WindDir3pm_SE  WindDir3pm_SSE  WindDir3pm_SSW   \n",
       "0          False         False          False           False           False  \\\n",
       "1          False         False          False           False           False   \n",
       "2          False         False          False           False           False   \n",
       "3          False         False          False           False           False   \n",
       "4           True         False          False           False           False   \n",
       "\n",
       "   WindDir3pm_SW  WindDir3pm_W  WindDir3pm_WNW  WindDir3pm_WSW  \n",
       "0          False         False            True           False  \n",
       "1          False         False           False            True  \n",
       "2          False         False           False            True  \n",
       "3          False         False           False           False  \n",
       "4          False         False           False           False  \n",
       "\n",
       "[5 rows x 117 columns]"
      ]
     },
     "execution_count": 3,
     "metadata": {},
     "output_type": "execute_result"
    }
   ],
   "source": [
    "# Get The data\n",
    "raw_data = pd.read_csv(('weatherAUS.csv'))\n",
    "\n",
    "# Checking all the null vals\n",
    "raw_data.isnull().sum()\n",
    "\n",
    "# filling all the null values from the numerical data with their respective mean value\n",
    "# This method is taken from a kaggle code, but we have some different names, but \n",
    "# I think i'ts okey to use the same method.\n",
    "\n",
    "raw_data['MinTemp']=raw_data['MinTemp'].fillna(raw_data['MinTemp'].mean())\n",
    "raw_data['MaxTemp']=raw_data['MaxTemp'].fillna(raw_data['MaxTemp'].mean())\n",
    "raw_data['Rainfall']=raw_data['Rainfall'].fillna(raw_data['Rainfall'].mean())\n",
    "raw_data['Evaporation']=raw_data['Evaporation'].fillna(raw_data['Evaporation'].mean())\n",
    "raw_data['Sunshine']=raw_data['Sunshine'].fillna(raw_data['Sunshine'].mean())\n",
    "raw_data['WindGustSpeed']=raw_data['WindGustSpeed'].fillna(raw_data['WindGustSpeed'].mean())\n",
    "raw_data['WindSpeed9am']=raw_data['WindSpeed9am'].fillna(raw_data['WindSpeed9am'].mean())\n",
    "raw_data['WindSpeed3pm']=raw_data['WindSpeed3pm'].fillna(raw_data['WindSpeed3pm'].mean())\n",
    "raw_data['Humidity9am']=raw_data['Humidity9am'].fillna(raw_data['Humidity9am'].mean())\n",
    "raw_data['Humidity3pm']=raw_data['Humidity3pm'].fillna(raw_data['Humidity3pm'].mean())\n",
    "raw_data['Pressure9am']=raw_data['Pressure9am'].fillna(raw_data['Pressure9am'].mean())\n",
    "raw_data['Pressure3pm']=raw_data['Pressure3pm'].fillna(raw_data['Pressure3pm'].mean())\n",
    "raw_data['Cloud9am']=raw_data['Cloud9am'].fillna(raw_data['Cloud9am'].mean())\n",
    "raw_data['Cloud3pm']=raw_data['Cloud3pm'].fillna(raw_data['Cloud3pm'].mean())\n",
    "raw_data['Temp9am']=raw_data['Temp9am'].fillna(raw_data['Temp9am'].mean())\n",
    "raw_data['Temp3pm']=raw_data['Temp3pm'].fillna(raw_data['Temp3pm'].mean())    \n",
    "\n",
    "# Filling all the null values from the categorical data with their most frequently occurring value\n",
    "raw_data['WindGustDir']=raw_data['WindGustDir'].fillna(raw_data['WindGustDir'].mode()[0])\n",
    "raw_data['WindDir9am']=raw_data['WindDir9am'].fillna(raw_data['WindDir9am'].mode()[0])\n",
    "raw_data['WindDir3pm']=raw_data['WindDir3pm'].fillna(raw_data['WindDir3pm'].mode()[0])\n",
    "raw_data['RainToday']=raw_data['RainToday'].fillna(raw_data['RainToday'].mode()[0])\n",
    "raw_data['RainTomorrow']=raw_data['RainTomorrow'].fillna(raw_data['RainTomorrow'].mode()[0])\n",
    "\n",
    "# making categorical yes and no to 1 and 0 respectivevly\n",
    "raw_data['RainTomorrow']=raw_data['RainTomorrow'].map({'Yes':1,'No':0})\n",
    "raw_data['RainToday']=raw_data['RainToday'].map({'Yes':1,'No':0})\n",
    "\n",
    "# from date convert to day, month\n",
    "raw_data['Date']=pd.to_datetime(raw_data['Date'])\n",
    "raw_data['day']=raw_data['Date'].dt.day\n",
    "raw_data['month']=raw_data['Date'].dt.month\n",
    "\n",
    "#drop date\n",
    "raw_data.drop('Date',axis=1,inplace=True)\n",
    "\n",
    "#Make onehot\n",
    "raw_data = pd.get_dummies(raw_data)\n",
    "raw_data_everything = raw_data.copy()\n",
    "raw_data.head(5)\n"
   ]
  },
  {
   "cell_type": "markdown",
   "id": "316a8a7e",
   "metadata": {},
   "source": [
    "### Principal components analysis"
   ]
  },
  {
   "cell_type": "code",
   "execution_count": 4,
   "id": "5a52664d",
   "metadata": {},
   "outputs": [],
   "source": [
    "from sklearn.preprocessing import StandardScaler\n",
    "from sklearn.decomposition import PCA\n",
    "\n",
    "raw_data_pp = StandardScaler().fit_transform(raw_data)\n",
    "pca = PCA().fit(raw_data_pp)\n",
    "\n",
    "# The PCA object offers convenient ways of accessing the\n",
    "# principal directions and explained variance\n",
    "pca.components_;\n",
    "pca.explained_variance_;\n",
    "\n",
    "# To get the principal components, the `transform` method of the\n",
    "# PCA object can be used\n",
    "principal_components_pca = pca.transform(raw_data_pp)"
   ]
  },
  {
   "cell_type": "code",
   "execution_count": 5,
   "id": "dae0bdb4",
   "metadata": {},
   "outputs": [
    {
     "data": {
      "image/png": "[encoded data removed]",
      "text/plain": [
       "<Figure size 600x400 with 1 Axes>"
      ]
     },
     "metadata": {},
     "output_type": "display_data"
    }
   ],
   "source": [
    "import matplotlib.pyplot as plt\n",
    "fig = plt.figure(figsize=(6, 4))\n",
    "ax = fig.gca()\n",
    "\n",
    "ax.plot(np.arange(1, len(pca.explained_variance_) + 1), pca.explained_variance_, 'ok', markersize=2)\n",
    "ax.axvline(6, linestyle=\"dashed\", color=\"red\", linewidth=1)\n",
    "\n",
    "ax.set_xlabel(\"Principal Component\")\n",
    "ax.set_ylabel(\"Explained Variance\");"
   ]
  },
  {
   "cell_type": "markdown",
   "id": "bf4d9f49",
   "metadata": {},
   "source": [
    "Looking at the screen plot, a good cut-off is after 5 principal components, since 5 and 6 are very close. So we could keep the first six columns of principal_components."
   ]
  },
  {
   "cell_type": "markdown",
   "id": "1a33ec1f",
   "metadata": {},
   "source": [
    "### Mislabel the dataset"
   ]
  },
  {
   "cell_type": "code",
   "execution_count": 6,
   "id": "a3e64795",
   "metadata": {},
   "outputs": [],
   "source": [
    "import pandas as pd\n",
    "import numpy as np\n",
    "\n",
    "# Get three copies of the original data set to mislabel in three different levels\n",
    "mislabel_data1 = raw_data.copy()\n",
    "mislabel_data2 = raw_data.copy()\n",
    "mislabel_data3 = raw_data.copy()\n",
    "\n",
    "# Define the percentage of labels to be swapped\n",
    "mislabeling_level1 = 20\n",
    "mislabeling_level2 = 50\n",
    "mislabeling_level3 = 70\n",
    "\n",
    "# Convert the labels to a numpy array for easier manipulation\n",
    "misclass_labels = np.array(raw_data['RainTomorrow'])\n",
    "\n",
    "# Calculate the number of labels to swap based on the percentage\n",
    "n_swap1 = int(len(misclass_labels) * mislabeling_level1 / 100)\n",
    "n_swap2 = int(len(misclass_labels) * mislabeling_level2 / 100)\n",
    "n_swap3 = int(len(misclass_labels) * mislabeling_level3 / 100)\n",
    "\n",
    "# Randomly select the indices of the labels to be swapped\n",
    "swap_indices1 = np.random.choice(len(misclass_labels), n_swap1, replace=False)\n",
    "swap_indices2 = np.random.choice(len(misclass_labels), n_swap2, replace=False)\n",
    "swap_indices3 = np.random.choice(len(misclass_labels), n_swap3, replace=False)\n",
    "\n",
    "# Swap the labels at the selected indices to their opposite values\n",
    "misclass_labels1 = misclass_labels.copy()\n",
    "misclass_labels1[swap_indices1] = 1 - misclass_labels1[swap_indices1]\n",
    "\n",
    "misclass_labels2 = misclass_labels.copy()\n",
    "misclass_labels2[swap_indices2] = 1 - misclass_labels2[swap_indices2]\n",
    "\n",
    "misclass_labels3 = misclass_labels.copy()\n",
    "misclass_labels3[swap_indices3] = 1 - misclass_labels3[swap_indices3]\n",
    "\n",
    "# Create new data frames from the modified label arrays\n",
    "mislabel_data1['RainTomorrow'] = pd.DataFrame(misclass_labels1, columns=['RainTomorrow'])\n",
    "mislabel_data2['RainTomorrow'] = pd.DataFrame(misclass_labels2, columns=['RainTomorrow'])\n",
    "mislabel_data3['RainTomorrow'] = pd.DataFrame(misclass_labels3, columns=['RainTomorrow'])"
   ]
  },
  {
   "cell_type": "code",
   "execution_count": 7,
   "id": "5b42cc69",
   "metadata": {},
   "outputs": [],
   "source": [
    "#label are the value we want to predict\n",
    "labels=raw_data['RainTomorrow']\n",
    "\n",
    "#remove the label from the features\n",
    "raw_data=raw_data.drop('RainTomorrow',axis=1)\n",
    "mislabel_data1 = mislabel_data1.drop('RainTomorrow',axis=1)\n",
    "mislabel_data2 = mislabel_data2.drop('RainTomorrow',axis=1)\n",
    "mislabel_data3 = mislabel_data3.drop('RainTomorrow',axis=1)\n",
    "\n",
    "\n",
    "#saving feature name \n",
    "feature_list=list(raw_data.columns)"
   ]
  },
  {
   "cell_type": "markdown",
   "id": "03457a96",
   "metadata": {},
   "source": [
    "### Splitting the data into training and test split"
   ]
  },
  {
   "cell_type": "code",
   "execution_count": 8,
   "id": "c101c349",
   "metadata": {},
   "outputs": [],
   "source": [
    "from sklearn.model_selection import train_test_split\n",
    "# Split the data into training and testing sets\n",
    "# Split to get unaltered test set\n",
    "_, test_features, _, test_labels = train_test_split(raw_data, labels, test_size=0.20, random_state=42)\n",
    "\n",
    "# Split to get 3 training sets with mislabeled data\n",
    "train_features1, _, train_labels1, _ = train_test_split(mislabel_data1, misclass_labels1, test_size=0.20, random_state=42)\n",
    "train_features2, _, train_labels2, _ = train_test_split(mislabel_data2, misclass_labels2, test_size=0.20, random_state=42)\n",
    "train_features3, _, train_labels3, _ = train_test_split(mislabel_data3, misclass_labels3, test_size=0.20, random_state=42)"
   ]
  },
  {
   "cell_type": "code",
   "execution_count": 9,
   "id": "0d2e1d83",
   "metadata": {},
   "outputs": [],
   "source": [
    "# pca\n",
    "pca = PCA(n_components=5)\n",
    "\n",
    "train_features_pca1 = pca.fit_transform(train_features1)\n",
    "train_features_pca2 = pca.fit_transform(train_features2)\n",
    "train_features_pca3 = pca.fit_transform(train_features3)\n",
    "test_features_pca = pca.fit_transform(test_features)\n"
   ]
  },
  {
   "cell_type": "markdown",
   "id": "0b7cb2d3",
   "metadata": {},
   "source": [
    "## KNN"
   ]
  },
  {
   "cell_type": "markdown",
   "id": "3dc84777",
   "metadata": {},
   "source": [
    "***for 20% misclassified***"
   ]
  },
  {
   "cell_type": "code",
   "execution_count": 10,
   "id": "b6ce7a6a",
   "metadata": {},
   "outputs": [
    {
     "name": "stdout",
     "output_type": "stream",
     "text": [
      "Accuracy:  83.0 %\n"
     ]
    }
   ],
   "source": [
    "from sklearn.tree import DecisionTreeClassifier\n",
    "from sklearn import neighbors\n",
    "model = neighbors.KNeighborsClassifier(20, weights='uniform')\n",
    "model.fit(train_features1, train_labels1)\n",
    "#calculate accuracy\n",
    "accuracy=model.score(test_features, test_labels)\n",
    "print('Accuracy: ',round(accuracy,2)*100,'%')"
   ]
  },
  {
   "cell_type": "code",
   "execution_count": 11,
   "id": "8bdc9fd8",
   "metadata": {},
   "outputs": [
    {
     "name": "stdout",
     "output_type": "stream",
     "text": [
      "Accuracy:  81.0 %\n"
     ]
    }
   ],
   "source": [
    "import numpy as np\n",
    "import matplotlib.pyplot as plt\n",
    "from sklearn.decomposition import PCA\n",
    "from sklearn.datasets import make_classification\n",
    "from sklearn.neighbors import KNeighborsClassifier\n",
    "\n",
    "\n",
    "# Uncomment if not performed the cross validation\n",
    "best_k = 41 #Best found k found to be 31/41\n",
    "\n",
    "\n",
    "# Train a K-nearest neighbor classifier on the projected data\n",
    "knn1 = KNeighborsClassifier(n_neighbors=best_k)\n",
    "knn1.fit(train_features_pca1, train_labels1)\n",
    "accuracy=knn1.score(test_features_pca, test_labels)\n",
    "print('Accuracy: ',round(accuracy,2)*100,'%')"
   ]
  },
  {
   "cell_type": "markdown",
   "id": "14667834",
   "metadata": {},
   "source": [
    "***for 30% misclassified***"
   ]
  },
  {
   "cell_type": "code",
   "execution_count": 12,
   "id": "0bb9dd43",
   "metadata": {},
   "outputs": [
    {
     "name": "stdout",
     "output_type": "stream",
     "text": [
      "Accuracy:  55.00000000000001 %\n"
     ]
    }
   ],
   "source": [
    "model.fit(train_features2, train_labels2)\n",
    "#calculate accuracy\n",
    "accuracy=model.score(test_features, test_labels)\n",
    "print('Accuracy: ',round(accuracy,2)*100,'%')"
   ]
  },
  {
   "cell_type": "code",
   "execution_count": 13,
   "id": "8724c9c6",
   "metadata": {},
   "outputs": [
    {
     "name": "stdout",
     "output_type": "stream",
     "text": [
      "Accuracy:  81.0 %\n"
     ]
    }
   ],
   "source": [
    "import numpy as np\n",
    "import matplotlib.pyplot as plt\n",
    "from sklearn.decomposition import PCA\n",
    "from sklearn.datasets import make_classification\n",
    "from sklearn.neighbors import KNeighborsClassifier\n",
    "\n",
    "\n",
    "# Uncomment if not performed the cross validation\n",
    "best_k = 41 #Best found k found to be 31/41\n",
    "\n",
    "\n",
    "# Train a K-nearest neighbor classifier on the projected data\n",
    "knn2 = KNeighborsClassifier(n_neighbors=best_k)\n",
    "knn2.fit(train_features_pca2, train_labels2)\n",
    "accuracy=knn1.score(test_features_pca, test_labels)\n",
    "print('Accuracy: ',round(accuracy,2)*100,'%')"
   ]
  },
  {
   "cell_type": "markdown",
   "id": "9f5f1056",
   "metadata": {},
   "source": [
    "***for 40% misclassified***"
   ]
  },
  {
   "cell_type": "code",
   "execution_count": 14,
   "id": "6a7a60b6",
   "metadata": {},
   "outputs": [
    {
     "name": "stdout",
     "output_type": "stream",
     "text": [
      "Accuracy:  22.0 %\n"
     ]
    }
   ],
   "source": [
    "model.fit(train_features3, train_labels3)\n",
    "#calculate accuracy\n",
    "accuracy=model.score(test_features, test_labels)\n",
    "print('Accuracy: ',round(accuracy,2)*100,'%')"
   ]
  },
  {
   "cell_type": "code",
   "execution_count": 15,
   "id": "ec51e723",
   "metadata": {},
   "outputs": [
    {
     "name": "stdout",
     "output_type": "stream",
     "text": [
      "Accuracy:  21.0 %\n"
     ]
    }
   ],
   "source": [
    "import numpy as np\n",
    "import matplotlib.pyplot as plt\n",
    "from sklearn.decomposition import PCA\n",
    "from sklearn.datasets import make_classification\n",
    "from sklearn.neighbors import KNeighborsClassifier\n",
    "\n",
    "\n",
    "# Uncomment if not performed the cross validation\n",
    "best_k = 41 #Best found k found to be 31/41\n",
    "\n",
    "# Train a K-nearest neighbor classifier on the projected data\n",
    "knn3 = KNeighborsClassifier(n_neighbors=best_k)\n",
    "knn3.fit(train_features_pca3, train_labels3)\n",
    "accuracy=knn3.score(test_features_pca, test_labels)\n",
    "print('Accuracy: ',round(accuracy,2)*100,'%')"
   ]
  },
  {
   "cell_type": "markdown",
   "id": "76c0777d",
   "metadata": {},
   "source": [
    "# Logistic Regression"
   ]
  },
  {
   "cell_type": "code",
   "execution_count": 16,
   "id": "fabcf506",
   "metadata": {},
   "outputs": [],
   "source": [
    "from sklearn.linear_model import LogisticRegression\n",
    "from sklearn.pipeline import make_pipeline\n",
    "from sklearn.preprocessing import StandardScaler"
   ]
  },
  {
   "cell_type": "markdown",
   "id": "1f7e1a12",
   "metadata": {},
   "source": [
    "***for 20% misclassified:***"
   ]
  },
  {
   "cell_type": "code",
   "execution_count": 17,
   "id": "31f556fe",
   "metadata": {},
   "outputs": [
    {
     "name": "stdout",
     "output_type": "stream",
     "text": [
      "0.845077684586828\n"
     ]
    }
   ],
   "source": [
    "LogReg1 = make_pipeline(StandardScaler(), LogisticRegression(random_state=0))\n",
    "LogReg1.fit(train_features1, train_labels1)\n",
    "print(LogReg1.score(test_features, test_labels))"
   ]
  },
  {
   "cell_type": "code",
   "execution_count": 18,
   "id": "7792a807",
   "metadata": {},
   "outputs": [
    {
     "name": "stdout",
     "output_type": "stream",
     "text": [
      "0.8156194142719648\n"
     ]
    }
   ],
   "source": [
    "# Train a Logistic regression classifier on the projected data\n",
    "LogReg1.fit(train_features_pca1, train_labels1)\n",
    "print(LogReg1.score(test_features_pca, test_labels))"
   ]
  },
  {
   "cell_type": "markdown",
   "id": "7e28a176",
   "metadata": {},
   "source": [
    "***for 30% misclassified:***"
   ]
  },
  {
   "cell_type": "code",
   "execution_count": 19,
   "id": "a44ed209",
   "metadata": {},
   "outputs": [
    {
     "name": "stdout",
     "output_type": "stream",
     "text": [
      "0.5000343737109858\n"
     ]
    }
   ],
   "source": [
    "LogReg2 = make_pipeline(StandardScaler(), LogisticRegression(random_state=0))\n",
    "LogReg2.fit(train_features2, train_labels2)\n",
    "print(LogReg2.score(test_features, test_labels))"
   ]
  },
  {
   "cell_type": "code",
   "execution_count": 20,
   "id": "915e3c15",
   "metadata": {},
   "outputs": [
    {
     "name": "stdout",
     "output_type": "stream",
     "text": [
      "0.47734772446033275\n"
     ]
    }
   ],
   "source": [
    "# Train a Logistic regression classifier on the projected data\n",
    "LogReg2.fit(train_features_pca2, train_labels2)\n",
    "print(LogReg2.score(test_features_pca, test_labels))"
   ]
  },
  {
   "cell_type": "markdown",
   "id": "c6bb4435",
   "metadata": {},
   "source": [
    "***for 40% misclassified:***"
   ]
  },
  {
   "cell_type": "code",
   "execution_count": 21,
   "id": "4c6dd6df",
   "metadata": {},
   "outputs": [
    {
     "name": "stdout",
     "output_type": "stream",
     "text": [
      "0.15571291076584629\n"
     ]
    }
   ],
   "source": [
    "LogReg3 = make_pipeline(StandardScaler(), LogisticRegression(random_state=0))\n",
    "LogReg3.fit(train_features3, train_labels3)\n",
    "print(LogReg3.score(test_features, test_labels))"
   ]
  },
  {
   "cell_type": "code",
   "execution_count": 22,
   "id": "1d7b1de4",
   "metadata": {},
   "outputs": [
    {
     "name": "stdout",
     "output_type": "stream",
     "text": [
      "0.184208717173106\n"
     ]
    }
   ],
   "source": [
    "# Train a Logistic regression classifier on the projected data\n",
    "LogReg3.fit(train_features_pca3, train_labels3)\n",
    "print(LogReg3.score(test_features_pca, test_labels))"
   ]
  },
  {
   "cell_type": "markdown",
   "id": "86adb632",
   "metadata": {},
   "source": [
    "# LDA"
   ]
  },
  {
   "cell_type": "markdown",
   "id": "a32b95a7",
   "metadata": {},
   "source": [
    "***For 20% misclassified:***"
   ]
  },
  {
   "cell_type": "code",
   "execution_count": 23,
   "id": "990882ae",
   "metadata": {},
   "outputs": [
    {
     "name": "stdout",
     "output_type": "stream",
     "text": [
      "0.8453870479857005\n"
     ]
    }
   ],
   "source": [
    "from sklearn.discriminant_analysis import LinearDiscriminantAnalysis\n",
    "LDA1 = make_pipeline(StandardScaler(), LinearDiscriminantAnalysis(solver='lsqr', shrinkage='auto'))\n",
    "LDA1.fit(train_features1, train_labels1)\n",
    "print(LDA1.score(test_features, test_labels))"
   ]
  },
  {
   "cell_type": "code",
   "execution_count": 24,
   "id": "10757caf",
   "metadata": {},
   "outputs": [
    {
     "name": "stdout",
     "output_type": "stream",
     "text": [
      "0.8151038086071772\n"
     ]
    }
   ],
   "source": [
    "# Train a LDA classifier on the projected data\n",
    "LDA1.fit(train_features_pca1, train_labels1)\n",
    "print(LDA1.score(test_features_pca, test_labels))"
   ]
  },
  {
   "cell_type": "markdown",
   "id": "8ebfafef",
   "metadata": {},
   "source": [
    "***For 30% misclassified:***"
   ]
  },
  {
   "cell_type": "code",
   "execution_count": 25,
   "id": "06642d3b",
   "metadata": {},
   "outputs": [
    {
     "name": "stdout",
     "output_type": "stream",
     "text": [
      "0.49996562628901414\n"
     ]
    }
   ],
   "source": [
    "from sklearn.discriminant_analysis import LinearDiscriminantAnalysis\n",
    "LDA2 = make_pipeline(StandardScaler(), LinearDiscriminantAnalysis(solver='lsqr', shrinkage='auto'))\n",
    "LDA2.fit(train_features2, train_labels2)\n",
    "print(LDA2.score(test_features, test_labels))"
   ]
  },
  {
   "cell_type": "code",
   "execution_count": 26,
   "id": "0d5b5db7",
   "metadata": {},
   "outputs": [
    {
     "name": "stdout",
     "output_type": "stream",
     "text": [
      "0.47734772446033275\n"
     ]
    }
   ],
   "source": [
    "# Train a LDA classifier on the projected data\n",
    "LDA2.fit(train_features_pca2, train_labels2)\n",
    "print(LDA2.score(test_features_pca, test_labels))"
   ]
  },
  {
   "cell_type": "markdown",
   "id": "82f8f4b3",
   "metadata": {},
   "source": [
    "***For 40% misclassified:***"
   ]
  },
  {
   "cell_type": "code",
   "execution_count": 27,
   "id": "f14cb0dd",
   "metadata": {},
   "outputs": [
    {
     "name": "stdout",
     "output_type": "stream",
     "text": [
      "0.1553691736559879\n"
     ]
    }
   ],
   "source": [
    "from sklearn.discriminant_analysis import LinearDiscriminantAnalysis\n",
    "LDA3 = make_pipeline(StandardScaler(), LinearDiscriminantAnalysis(solver='lsqr', shrinkage='auto'))\n",
    "LDA3.fit(train_features3, train_labels3)\n",
    "print(LDA3.score(test_features, test_labels))"
   ]
  },
  {
   "cell_type": "code",
   "execution_count": 28,
   "id": "e84b5a46",
   "metadata": {},
   "outputs": [
    {
     "name": "stdout",
     "output_type": "stream",
     "text": [
      "0.18403684861817682\n"
     ]
    }
   ],
   "source": [
    "# Train a LDA classifier on the projected data\n",
    "LDA3.fit(train_features_pca3, train_labels3)\n",
    "print(LDA3.score(test_features_pca, test_labels))"
   ]
  },
  {
   "cell_type": "markdown",
   "id": "472fa340",
   "metadata": {},
   "source": [
    "### Cross-validation comparison between the different classifier methods"
   ]
  },
  {
   "cell_type": "code",
   "execution_count": 29,
   "id": "a5a9f937",
   "metadata": {},
   "outputs": [],
   "source": [
    "from sklearn.model_selection import cross_validate\n",
    "scoring = ['f1_macro', 'accuracy', 'roc_auc']"
   ]
  },
  {
   "cell_type": "markdown",
   "id": "07c8271b",
   "metadata": {},
   "source": [
    "***For 20% misclassified:***"
   ]
  },
  {
   "cell_type": "code",
   "execution_count": 30,
   "id": "46ecb931",
   "metadata": {},
   "outputs": [
    {
     "name": "stdout",
     "output_type": "stream",
     "text": [
      "KNN F1 Macro: 0.5797227983436777, Accuracy: 0.6989292319607511, ROC AUC: 0.6370006093269331\n",
      "Logistic Regression: F1 Macro: 0.5578713475895829, Accuracy: 0.6979925732968535, ROC AUC: 0.6522242789293131\n",
      "LDA: F1 Macro: 0.5616457751107783, Accuracy: 0.6982417954041342, ROC AUC: 0.6521010386981592\n"
     ]
    }
   ],
   "source": [
    "cv_knn1 = cross_validate(knn1, train_features_pca1, train_labels1, cv=10, scoring=scoring)\n",
    "cv_LogReg1 = cross_validate(LogReg1, train_features_pca1, train_labels1, cv=10, scoring=scoring)\n",
    "cv_LDA1 = cross_validate(LDA1, train_features_pca1, train_labels1, cv=10, scoring=scoring)\n",
    "\n",
    "print(f\"KNN F1 Macro: {np.mean(cv_knn1['test_f1_macro'])}, Accuracy: {np.mean(cv_knn1['test_accuracy'])}, ROC AUC: {np.mean(cv_knn1['test_roc_auc'])}\")\n",
    "print(f\"Logistic Regression: F1 Macro: {np.mean(cv_LogReg1['test_f1_macro'])}, Accuracy: {np.mean(cv_LogReg1['test_accuracy'])}, ROC AUC: {np.mean(cv_LogReg1['test_roc_auc'])}\")\n",
    "print(f\"LDA: F1 Macro: {np.mean(cv_LDA1['test_f1_macro'])}, Accuracy: {np.mean(cv_LDA1['test_accuracy'])}, ROC AUC: {np.mean(cv_LDA1['test_roc_auc'])}\")"
   ]
  },
  {
   "cell_type": "markdown",
   "id": "4ef46088",
   "metadata": {},
   "source": [
    "***For 30% misclassified:***"
   ]
  },
  {
   "cell_type": "code",
   "execution_count": 31,
   "id": "24ecbe21",
   "metadata": {},
   "outputs": [
    {
     "name": "stdout",
     "output_type": "stream",
     "text": [
      "KNN F1 Macro: 0.5027963025409843, Accuracy: 0.5028272548653135, ROC AUC: 0.5035812388206373\n",
      "Logistic Regression: F1 Macro: 0.4894429174219884, Accuracy: 0.4977313895741505, ROC AUC: 0.4985973719056382\n",
      "LDA: F1 Macro: 0.489414017833233, Accuracy: 0.49772279481707943, ROC AUC: 0.49860092212772844\n"
     ]
    }
   ],
   "source": [
    "cv_knn2 = cross_validate(knn2, train_features_pca2, train_labels2, cv=10, scoring=scoring)\n",
    "cv_LogReg2 = cross_validate(LogReg2, train_features_pca2, train_labels2, cv=10, scoring=scoring)\n",
    "cv_LDA2 = cross_validate(LDA2, train_features_pca2, train_labels2, cv=10, scoring=scoring)\n",
    "\n",
    "print(f\"KNN F1 Macro: {np.mean(cv_knn2['test_f1_macro'])}, Accuracy: {np.mean(cv_knn2['test_accuracy'])}, ROC AUC: {np.mean(cv_knn2['test_roc_auc'])}\")\n",
    "print(f\"Logistic Regression: F1 Macro: {np.mean(cv_LogReg2['test_f1_macro'])}, Accuracy: {np.mean(cv_LogReg2['test_accuracy'])}, ROC AUC: {np.mean(cv_LogReg2['test_roc_auc'])}\")\n",
    "print(f\"LDA: F1 Macro: {np.mean(cv_LDA2['test_f1_macro'])}, Accuracy: {np.mean(cv_LDA2['test_accuracy'])}, ROC AUC: {np.mean(cv_LDA2['test_roc_auc'])}\")"
   ]
  },
  {
   "cell_type": "markdown",
   "id": "69a4e96b",
   "metadata": {},
   "source": [
    "***For 40% misclassified:***"
   ]
  },
  {
   "cell_type": "code",
   "execution_count": 32,
   "id": "3a85bcf3",
   "metadata": {},
   "outputs": [
    {
     "name": "stdout",
     "output_type": "stream",
     "text": [
      "Accuracy: 0.6268045607482422\n",
      "Accuracy: 0.6311099040935001\n",
      "Accuracy: 0.6312044353436617\n"
     ]
    }
   ],
   "source": [
    "cv_knn3 = cross_validate(knn3, train_features_pca3, train_labels3, cv=10, scoring=scoring)\n",
    "cv_LogReg3 = cross_validate(LogReg3, train_features_pca3, train_labels3, cv=10, scoring=scoring)\n",
    "cv_LDA3 = cross_validate(LDA3, train_features_pca3, train_labels3, cv=10, scoring=scoring)\n",
    "\n",
    "print(f\"Accuracy: {np.mean(cv_knn3['test_accuracy'])}\")\n",
    "print(f\"Accuracy: {np.mean(cv_LogReg3['test_accuracy'])}\")\n",
    "print(f\"Accuracy: {np.mean(cv_LDA3['test_accuracy'])}\")\n",
    "\n",
    "#print(f\"KNN F1 Macro: {np.mean(cv_knn3['test_f1_macro'])}, Accuracy: {np.mean(cv_knn3['test_accuracy'])}, ROC AUC: {np.mean(cv_knn3['test_roc_auc'])}\")\n",
    "#print(f\"Logistic Regression: F1 Macro: {np.mean(cv_LogReg3['test_f1_macro'])}, Accuracy: {np.mean(cv_LogReg3['test_accuracy'])}, ROC AUC: {np.mean(cv_LogReg3['test_roc_auc'])}\")\n",
    "#print(f\"LDA: F1 Macro: {np.mean(cv_LDA3['test_f1_macro'])}, Accuracy: {np.mean(cv_LDA3['test_accuracy'])}, ROC AUC: {np.mean(cv_LDA3['test_roc_auc'])}\")"
   ]
  },
  {
   "cell_type": "markdown",
   "id": "acd1bfc2",
   "metadata": {},
   "source": [
    "### Plotting the result"
   ]
  },
  {
   "cell_type": "code",
   "execution_count": 33,
   "id": "7f58587f",
   "metadata": {},
   "outputs": [],
   "source": [
    "from sklearn.preprocessing import MinMaxScaler\n",
    "from sklearn import preprocessing\n",
    "\n",
    "def scaleColumns(df, cols_to_scale):\n",
    "    min_max_scaler = preprocessing.MinMaxScaler()\n",
    "    for col in cols_to_scale:\n",
    "        df[col] = pd.DataFrame(min_max_scaler.fit_transform(pd.DataFrame(df[col])),columns=[col])\n",
    "    return df"
   ]
  },
  {
   "cell_type": "code",
   "execution_count": 44,
   "id": "f03b2276",
   "metadata": {},
   "outputs": [
    {
     "data": {
      "image/png": "[encoded data removed]",
      "text/plain": [
       "<Figure size 2570x2070 with 16 Axes>"
      ]
     },
     "metadata": {},
     "output_type": "display_data"
    }
   ],
   "source": [
    "df = raw_data_everything.copy()\n",
    "scaled_df = scaleColumns(df,['MinTemp',\n",
    " 'MaxTemp',\n",
    " 'Rainfall',\n",
    " 'Evaporation',\n",
    " 'Sunshine',\n",
    " 'WindGustSpeed',\n",
    " 'WindSpeed9am',\n",
    " 'WindSpeed3pm',\n",
    " 'Humidity9am',\n",
    " 'Humidity3pm',\n",
    " 'Pressure9am',\n",
    " 'Pressure3pm',\n",
    " 'Cloud9am',\n",
    " 'Cloud3pm',\n",
    " 'Temp9am',\n",
    " 'Temp3pm'])\n",
    "\n",
    "boxplot = scaled_df.boxplot(column=['MinTemp',\n",
    " 'MaxTemp',\n",
    " 'Rainfall',\n",
    " 'Evaporation',\n",
    " 'Sunshine',\n",
    " 'WindGustSpeed',\n",
    " 'WindSpeed9am',\n",
    " 'WindSpeed3pm',\n",
    " 'Humidity9am',\n",
    " 'Humidity3pm',\n",
    " 'Pressure9am',\n",
    " 'Pressure3pm',\n",
    " 'Cloud9am',\n",
    " 'Cloud3pm',\n",
    " 'Temp9am',\n",
    " 'Temp3pm'],\n",
    " by=['RainTomorrow'], \n",
    " figsize=(25.7,20.7),\n",
    " color = 'blue')  \n"
   ]
  },
  {
   "cell_type": "code",
   "execution_count": null,
   "id": "dd93a7d9",
   "metadata": {},
   "outputs": [],
   "source": []
  }
 ],
 "metadata": {
  "kernelspec": {
   "display_name": "venvBigData",
   "language": "python",
   "name": "venvbigdata"
  },
  "language_info": {
   "codemirror_mode": {
    "name": "ipython",
    "version": 3
   },
   "file_extension": ".py",
   "mimetype": "text/x-python",
   "name": "python",
   "nbconvert_exporter": "python",
   "pygments_lexer": "ipython3",
   "version": "3.10.4"
  }
 },
 "nbformat": 4,
 "nbformat_minor": 5
}

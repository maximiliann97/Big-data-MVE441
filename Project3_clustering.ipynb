{
 "cells": [
  {
   "cell_type": "markdown",
   "id": "c7997421",
   "metadata": {},
   "source": [
    "## Data preparation"
   ]
  },
  {
   "cell_type": "code",
   "execution_count": 137,
   "id": "ba4be8aa",
   "metadata": {
    "scrolled": false
   },
   "outputs": [
    {
     "name": "stdout",
     "output_type": "stream",
     "text": [
      "(82,)\n",
      "(82, 3000)\n"
     ]
    }
   ],
   "source": [
    "nr_observations = 82\n",
    "labels = list()\n",
    "\n",
    "\n",
    "\n",
    "with open('Cancerdata.txt') as f:\n",
    "    lines = f.readlines()\n",
    "    for i, line in enumerate(lines):\n",
    "        if i == 0:\n",
    "            continue\n",
    "        line = line.split('\\t')\n",
    "        line = [item.rstrip() for item in line]\n",
    "        line[0] = float(line[0].strip('\"'))\n",
    "        line[1:] = [float(x) for x in line[1:]]\n",
    "        line = np.asarray(line)\n",
    "        \n",
    "        # Append labels\n",
    "        labels.append(int(line[1]))\n",
    "        \n",
    "        # Create the data np.array with first observation\n",
    "        # Vstack the rest of the observations to the newly created data matrix\n",
    "        observation = line[1:]\n",
    "        if i == 1:\n",
    "            data = observation\n",
    "        else:\n",
    "            data = np.vstack((data, observation))\n",
    "        \n",
    "labels = np.asarray(labels)\n",
    "\n",
    "print(np.shape(labels))\n",
    "print(np.shape(data))"
   ]
  },
  {
   "cell_type": "code",
   "execution_count": 138,
   "id": "be8a6f1c",
   "metadata": {},
   "outputs": [
    {
     "name": "stdout",
     "output_type": "stream",
     "text": [
      "[1 0 1 0 2 2 2 1 0 2 1 2 0 1 1 2 0 0 0 2 2 0 0 1 0 2 1 2 2 0 0 0 0 0 1 0 0\n",
      " 0 0 1 2 0 0 2 0 0 0 1 2 2 1 1 2 0 0 2 2 0 0 2 2 2 0 2 1 0 1 0 1 1 0 0 2 0\n",
      " 1 0 2 1 0 1 0 2]\n"
     ]
    }
   ],
   "source": [
    "print(labels)"
   ]
  },
  {
   "cell_type": "code",
   "execution_count": null,
   "id": "e2a04587",
   "metadata": {},
   "outputs": [],
   "source": []
  }
 ],
 "metadata": {
  "kernelspec": {
   "display_name": "bigdata_venv",
   "language": "python",
   "name": "bigdata_venv"
  },
  "language_info": {
   "codemirror_mode": {
    "name": "ipython",
    "version": 3
   },
   "file_extension": ".py",
   "mimetype": "text/x-python",
   "name": "python",
   "nbconvert_exporter": "python",
   "pygments_lexer": "ipython3",
   "version": "3.9.13"
  }
 },
 "nbformat": 4,
 "nbformat_minor": 5
}
